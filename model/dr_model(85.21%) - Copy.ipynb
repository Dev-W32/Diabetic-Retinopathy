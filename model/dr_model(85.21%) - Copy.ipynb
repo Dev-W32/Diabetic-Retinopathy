{
  "cells": [
    {
      "cell_type": "code",
      "execution_count": 1,
      "metadata": {
        "id": "TkwgT_FLfFxb"
      },
      "outputs": [],
      "source": [
        "import numpy as np\n",
        "import cv2\n",
        "import matplotlib.pyplot as plt\n",
        "import pandas as pd\n",
        "import os\n",
        "import tensorflow as tf\n",
        "import tensorflow.keras.backend as K\n",
        "from tensorflow.keras.preprocessing.image import ImageDataGenerator\n",
        "from tensorflow.keras.datasets import fashion_mnist\n",
        "from tensorflow.keras.applications.mobilenet import MobileNet\n",
        "from tensorflow.keras.layers import Input,Reshape,Dense,Lambda,GlobalAveragePooling2D\n",
        "from tensorflow.keras.models import load_model,Model\n",
        "from tensorflow.keras.callbacks import ModelCheckpoint\n",
        "from tensorflow.keras.utils import plot_model"
      ]
    },
    {
      "cell_type": "code",
      "execution_count": null,
      "metadata": {
        "id": "e3jnqDsGDYGZ"
      },
      "outputs": [],
      "source": []
    },
    {
      "cell_type": "code",
      "execution_count": 2,
      "metadata": {
        "id": "85yGeN3CfhvJ"
      },
      "outputs": [],
      "source": [
        "dir0=\"E:/RCOEM/Sem 6/Project/diabetic-retino/diabetic-retinopathy2/diabetic-retinopathy/model/content/0_0\"\n",
        "dir1=\"E:/RCOEM/Sem 6/Project/diabetic-retino/diabetic-retinopathy2/diabetic-retinopathy/model/content/0_1\"\n",
        "dir2=\"E:/RCOEM/Sem 6/Project/diabetic-retino/diabetic-retinopathy2/diabetic-retinopathy/model/content/0_2\"\n",
        "dir3=\"E:/RCOEM/Sem 6/Project/diabetic-retino/diabetic-retinopathy2/diabetic-retinopathy/model/content/0_3\"\n",
        "dir4=\"E:/RCOEM/Sem 6/Project/diabetic-retino/diabetic-retinopathy2/diabetic-retinopathy/model/content/0_4\""
      ]
    },
    {
      "cell_type": "code",
      "execution_count": 3,
      "metadata": {
        "id": "CbnQCbGnf0Nb"
      },
      "outputs": [],
      "source": [
        "imgs=[]\n",
        "label=[]"
      ]
    },
    {
      "cell_type": "code",
      "execution_count": 4,
      "metadata": {
        "id": "t2XWPy7pf3qj"
      },
      "outputs": [
        {
          "name": "stdout",
          "output_type": "stream",
          "text": [
            "E:/RCOEM/Sem 6/Project/diabetic-retino/diabetic-retinopathy2/diabetic-retinopathy/model/content/0_0/image001.png\n",
            "E:/RCOEM/Sem 6/Project/diabetic-retino/diabetic-retinopathy2/diabetic-retinopathy/model/content/0_0/image002.png\n",
            "E:/RCOEM/Sem 6/Project/diabetic-retino/diabetic-retinopathy2/diabetic-retinopathy/model/content/0_0/image003.png\n",
            "E:/RCOEM/Sem 6/Project/diabetic-retino/diabetic-retinopathy2/diabetic-retinopathy/model/content/0_0/image004.png\n",
            "E:/RCOEM/Sem 6/Project/diabetic-retino/diabetic-retinopathy2/diabetic-retinopathy/model/content/0_0/image005.png\n",
            "E:/RCOEM/Sem 6/Project/diabetic-retino/diabetic-retinopathy2/diabetic-retinopathy/model/content/0_0/image006.png\n",
            "E:/RCOEM/Sem 6/Project/diabetic-retino/diabetic-retinopathy2/diabetic-retinopathy/model/content/0_0/image007.png\n",
            "E:/RCOEM/Sem 6/Project/diabetic-retino/diabetic-retinopathy2/diabetic-retinopathy/model/content/0_0/image008.png\n",
            "E:/RCOEM/Sem 6/Project/diabetic-retino/diabetic-retinopathy2/diabetic-retinopathy/model/content/0_0/image009.png\n",
            "E:/RCOEM/Sem 6/Project/diabetic-retino/diabetic-retinopathy2/diabetic-retinopathy/model/content/0_0/image010.png\n",
            "E:/RCOEM/Sem 6/Project/diabetic-retino/diabetic-retinopathy2/diabetic-retinopathy/model/content/0_0/image011.png\n",
            "E:/RCOEM/Sem 6/Project/diabetic-retino/diabetic-retinopathy2/diabetic-retinopathy/model/content/0_0/image012.png\n",
            "E:/RCOEM/Sem 6/Project/diabetic-retino/diabetic-retinopathy2/diabetic-retinopathy/model/content/0_0/image013.png\n",
            "E:/RCOEM/Sem 6/Project/diabetic-retino/diabetic-retinopathy2/diabetic-retinopathy/model/content/0_0/image014.png\n",
            "E:/RCOEM/Sem 6/Project/diabetic-retino/diabetic-retinopathy2/diabetic-retinopathy/model/content/0_0/image015.png\n",
            "E:/RCOEM/Sem 6/Project/diabetic-retino/diabetic-retinopathy2/diabetic-retinopathy/model/content/0_0/image016.png\n",
            "E:/RCOEM/Sem 6/Project/diabetic-retino/diabetic-retinopathy2/diabetic-retinopathy/model/content/0_0/image017.png\n",
            "E:/RCOEM/Sem 6/Project/diabetic-retino/diabetic-retinopathy2/diabetic-retinopathy/model/content/0_0/image018.png\n",
            "E:/RCOEM/Sem 6/Project/diabetic-retino/diabetic-retinopathy2/diabetic-retinopathy/model/content/0_0/image019.png\n",
            "E:/RCOEM/Sem 6/Project/diabetic-retino/diabetic-retinopathy2/diabetic-retinopathy/model/content/0_0/image020.png\n",
            "E:/RCOEM/Sem 6/Project/diabetic-retino/diabetic-retinopathy2/diabetic-retinopathy/model/content/0_0/image021.png\n",
            "E:/RCOEM/Sem 6/Project/diabetic-retino/diabetic-retinopathy2/diabetic-retinopathy/model/content/0_0/image022.png\n",
            "E:/RCOEM/Sem 6/Project/diabetic-retino/diabetic-retinopathy2/diabetic-retinopathy/model/content/0_0/image023.png\n",
            "E:/RCOEM/Sem 6/Project/diabetic-retino/diabetic-retinopathy2/diabetic-retinopathy/model/content/0_0/image024.png\n",
            "E:/RCOEM/Sem 6/Project/diabetic-retino/diabetic-retinopathy2/diabetic-retinopathy/model/content/0_0/image025.png\n",
            "E:/RCOEM/Sem 6/Project/diabetic-retino/diabetic-retinopathy2/diabetic-retinopathy/model/content/0_0/image026.png\n",
            "E:/RCOEM/Sem 6/Project/diabetic-retino/diabetic-retinopathy2/diabetic-retinopathy/model/content/0_0/image027.png\n",
            "E:/RCOEM/Sem 6/Project/diabetic-retino/diabetic-retinopathy2/diabetic-retinopathy/model/content/0_0/image028.png\n",
            "E:/RCOEM/Sem 6/Project/diabetic-retino/diabetic-retinopathy2/diabetic-retinopathy/model/content/0_0/image029.png\n",
            "E:/RCOEM/Sem 6/Project/diabetic-retino/diabetic-retinopathy2/diabetic-retinopathy/model/content/0_0/image030.png\n",
            "E:/RCOEM/Sem 6/Project/diabetic-retino/diabetic-retinopathy2/diabetic-retinopathy/model/content/0_0/image031.png\n",
            "E:/RCOEM/Sem 6/Project/diabetic-retino/diabetic-retinopathy2/diabetic-retinopathy/model/content/0_0/image032.png\n",
            "E:/RCOEM/Sem 6/Project/diabetic-retino/diabetic-retinopathy2/diabetic-retinopathy/model/content/0_0/image033.png\n",
            "E:/RCOEM/Sem 6/Project/diabetic-retino/diabetic-retinopathy2/diabetic-retinopathy/model/content/0_0/image034.png\n",
            "E:/RCOEM/Sem 6/Project/diabetic-retino/diabetic-retinopathy2/diabetic-retinopathy/model/content/0_0/image035.png\n",
            "E:/RCOEM/Sem 6/Project/diabetic-retino/diabetic-retinopathy2/diabetic-retinopathy/model/content/0_0/image036.png\n",
            "E:/RCOEM/Sem 6/Project/diabetic-retino/diabetic-retinopathy2/diabetic-retinopathy/model/content/0_0/image037.png\n",
            "E:/RCOEM/Sem 6/Project/diabetic-retino/diabetic-retinopathy2/diabetic-retinopathy/model/content/0_0/image038.png\n",
            "E:/RCOEM/Sem 6/Project/diabetic-retino/diabetic-retinopathy2/diabetic-retinopathy/model/content/0_0/image039.png\n",
            "E:/RCOEM/Sem 6/Project/diabetic-retino/diabetic-retinopathy2/diabetic-retinopathy/model/content/0_0/image040.png\n",
            "E:/RCOEM/Sem 6/Project/diabetic-retino/diabetic-retinopathy2/diabetic-retinopathy/model/content/0_0/image041.png\n",
            "E:/RCOEM/Sem 6/Project/diabetic-retino/diabetic-retinopathy2/diabetic-retinopathy/model/content/0_0/image042.png\n",
            "E:/RCOEM/Sem 6/Project/diabetic-retino/diabetic-retinopathy2/diabetic-retinopathy/model/content/0_0/image043.png\n",
            "E:/RCOEM/Sem 6/Project/diabetic-retino/diabetic-retinopathy2/diabetic-retinopathy/model/content/0_0/image044.png\n",
            "E:/RCOEM/Sem 6/Project/diabetic-retino/diabetic-retinopathy2/diabetic-retinopathy/model/content/0_0/image045.png\n",
            "E:/RCOEM/Sem 6/Project/diabetic-retino/diabetic-retinopathy2/diabetic-retinopathy/model/content/0_0/image046.png\n",
            "E:/RCOEM/Sem 6/Project/diabetic-retino/diabetic-retinopathy2/diabetic-retinopathy/model/content/0_0/image047.png\n",
            "E:/RCOEM/Sem 6/Project/diabetic-retino/diabetic-retinopathy2/diabetic-retinopathy/model/content/0_0/image048.png\n",
            "E:/RCOEM/Sem 6/Project/diabetic-retino/diabetic-retinopathy2/diabetic-retinopathy/model/content/0_0/image049.png\n",
            "E:/RCOEM/Sem 6/Project/diabetic-retino/diabetic-retinopathy2/diabetic-retinopathy/model/content/0_0/image050.png\n",
            "E:/RCOEM/Sem 6/Project/diabetic-retino/diabetic-retinopathy2/diabetic-retinopathy/model/content/0_0/image051.png\n",
            "E:/RCOEM/Sem 6/Project/diabetic-retino/diabetic-retinopathy2/diabetic-retinopathy/model/content/0_0/image052.png\n",
            "E:/RCOEM/Sem 6/Project/diabetic-retino/diabetic-retinopathy2/diabetic-retinopathy/model/content/0_0/image053.png\n",
            "E:/RCOEM/Sem 6/Project/diabetic-retino/diabetic-retinopathy2/diabetic-retinopathy/model/content/0_0/image054.png\n",
            "E:/RCOEM/Sem 6/Project/diabetic-retino/diabetic-retinopathy2/diabetic-retinopathy/model/content/0_0/image055.png\n",
            "E:/RCOEM/Sem 6/Project/diabetic-retino/diabetic-retinopathy2/diabetic-retinopathy/model/content/0_0/image056.png\n",
            "E:/RCOEM/Sem 6/Project/diabetic-retino/diabetic-retinopathy2/diabetic-retinopathy/model/content/0_0/image057.png\n",
            "E:/RCOEM/Sem 6/Project/diabetic-retino/diabetic-retinopathy2/diabetic-retinopathy/model/content/0_0/image058.png\n",
            "E:/RCOEM/Sem 6/Project/diabetic-retino/diabetic-retinopathy2/diabetic-retinopathy/model/content/0_0/image059.png\n",
            "E:/RCOEM/Sem 6/Project/diabetic-retino/diabetic-retinopathy2/diabetic-retinopathy/model/content/0_0/image060.png\n",
            "E:/RCOEM/Sem 6/Project/diabetic-retino/diabetic-retinopathy2/diabetic-retinopathy/model/content/0_0/image061.png\n",
            "E:/RCOEM/Sem 6/Project/diabetic-retino/diabetic-retinopathy2/diabetic-retinopathy/model/content/0_0/image062.png\n",
            "E:/RCOEM/Sem 6/Project/diabetic-retino/diabetic-retinopathy2/diabetic-retinopathy/model/content/0_0/image063.png\n",
            "E:/RCOEM/Sem 6/Project/diabetic-retino/diabetic-retinopathy2/diabetic-retinopathy/model/content/0_0/image064.png\n",
            "E:/RCOEM/Sem 6/Project/diabetic-retino/diabetic-retinopathy2/diabetic-retinopathy/model/content/0_0/image065.png\n",
            "E:/RCOEM/Sem 6/Project/diabetic-retino/diabetic-retinopathy2/diabetic-retinopathy/model/content/0_0/image066.png\n",
            "E:/RCOEM/Sem 6/Project/diabetic-retino/diabetic-retinopathy2/diabetic-retinopathy/model/content/0_0/image067.png\n",
            "E:/RCOEM/Sem 6/Project/diabetic-retino/diabetic-retinopathy2/diabetic-retinopathy/model/content/0_0/image068.png\n",
            "E:/RCOEM/Sem 6/Project/diabetic-retino/diabetic-retinopathy2/diabetic-retinopathy/model/content/0_0/image069.png\n",
            "E:/RCOEM/Sem 6/Project/diabetic-retino/diabetic-retinopathy2/diabetic-retinopathy/model/content/0_0/image070.png\n",
            "E:/RCOEM/Sem 6/Project/diabetic-retino/diabetic-retinopathy2/diabetic-retinopathy/model/content/0_0/image071.png\n",
            "E:/RCOEM/Sem 6/Project/diabetic-retino/diabetic-retinopathy2/diabetic-retinopathy/model/content/0_0/image072.png\n",
            "E:/RCOEM/Sem 6/Project/diabetic-retino/diabetic-retinopathy2/diabetic-retinopathy/model/content/0_0/image073.png\n",
            "E:/RCOEM/Sem 6/Project/diabetic-retino/diabetic-retinopathy2/diabetic-retinopathy/model/content/0_0/image074.png\n",
            "E:/RCOEM/Sem 6/Project/diabetic-retino/diabetic-retinopathy2/diabetic-retinopathy/model/content/0_0/image075.png\n",
            "E:/RCOEM/Sem 6/Project/diabetic-retino/diabetic-retinopathy2/diabetic-retinopathy/model/content/0_0/image076.png\n",
            "E:/RCOEM/Sem 6/Project/diabetic-retino/diabetic-retinopathy2/diabetic-retinopathy/model/content/0_0/image077.png\n",
            "E:/RCOEM/Sem 6/Project/diabetic-retino/diabetic-retinopathy2/diabetic-retinopathy/model/content/0_0/image078.png\n",
            "E:/RCOEM/Sem 6/Project/diabetic-retino/diabetic-retinopathy2/diabetic-retinopathy/model/content/0_0/image079.png\n",
            "E:/RCOEM/Sem 6/Project/diabetic-retino/diabetic-retinopathy2/diabetic-retinopathy/model/content/0_0/image080.png\n",
            "E:/RCOEM/Sem 6/Project/diabetic-retino/diabetic-retinopathy2/diabetic-retinopathy/model/content/0_0/image081.png\n",
            "E:/RCOEM/Sem 6/Project/diabetic-retino/diabetic-retinopathy2/diabetic-retinopathy/model/content/0_0/image082.png\n",
            "E:/RCOEM/Sem 6/Project/diabetic-retino/diabetic-retinopathy2/diabetic-retinopathy/model/content/0_0/image083.png\n",
            "E:/RCOEM/Sem 6/Project/diabetic-retino/diabetic-retinopathy2/diabetic-retinopathy/model/content/0_0/image084.png\n",
            "E:/RCOEM/Sem 6/Project/diabetic-retino/diabetic-retinopathy2/diabetic-retinopathy/model/content/0_0/image085.png\n",
            "E:/RCOEM/Sem 6/Project/diabetic-retino/diabetic-retinopathy2/diabetic-retinopathy/model/content/0_0/image086.png\n",
            "E:/RCOEM/Sem 6/Project/diabetic-retino/diabetic-retinopathy2/diabetic-retinopathy/model/content/0_0/image087.png\n",
            "E:/RCOEM/Sem 6/Project/diabetic-retino/diabetic-retinopathy2/diabetic-retinopathy/model/content/0_0/image088.png\n",
            "E:/RCOEM/Sem 6/Project/diabetic-retino/diabetic-retinopathy2/diabetic-retinopathy/model/content/0_0/image089.png\n",
            "E:/RCOEM/Sem 6/Project/diabetic-retino/diabetic-retinopathy2/diabetic-retinopathy/model/content/0_0/image090.png\n",
            "E:/RCOEM/Sem 6/Project/diabetic-retino/diabetic-retinopathy2/diabetic-retinopathy/model/content/0_0/image091.png\n",
            "E:/RCOEM/Sem 6/Project/diabetic-retino/diabetic-retinopathy2/diabetic-retinopathy/model/content/0_0/image092.png\n",
            "E:/RCOEM/Sem 6/Project/diabetic-retino/diabetic-retinopathy2/diabetic-retinopathy/model/content/0_0/image093.png\n",
            "E:/RCOEM/Sem 6/Project/diabetic-retino/diabetic-retinopathy2/diabetic-retinopathy/model/content/0_0/image094.png\n",
            "E:/RCOEM/Sem 6/Project/diabetic-retino/diabetic-retinopathy2/diabetic-retinopathy/model/content/0_0/image095.png\n",
            "E:/RCOEM/Sem 6/Project/diabetic-retino/diabetic-retinopathy2/diabetic-retinopathy/model/content/0_0/image096.png\n",
            "E:/RCOEM/Sem 6/Project/diabetic-retino/diabetic-retinopathy2/diabetic-retinopathy/model/content/0_0/image097.png\n",
            "E:/RCOEM/Sem 6/Project/diabetic-retino/diabetic-retinopathy2/diabetic-retinopathy/model/content/0_0/image098.png\n",
            "E:/RCOEM/Sem 6/Project/diabetic-retino/diabetic-retinopathy2/diabetic-retinopathy/model/content/0_0/image099.png\n",
            "E:/RCOEM/Sem 6/Project/diabetic-retino/diabetic-retinopathy2/diabetic-retinopathy/model/content/0_0/image100.png\n",
            "E:/RCOEM/Sem 6/Project/diabetic-retino/diabetic-retinopathy2/diabetic-retinopathy/model/content/0_0/image101.png\n",
            "E:/RCOEM/Sem 6/Project/diabetic-retino/diabetic-retinopathy2/diabetic-retinopathy/model/content/0_0/image102.png\n",
            "E:/RCOEM/Sem 6/Project/diabetic-retino/diabetic-retinopathy2/diabetic-retinopathy/model/content/0_0/image103.png\n",
            "E:/RCOEM/Sem 6/Project/diabetic-retino/diabetic-retinopathy2/diabetic-retinopathy/model/content/0_0/image104.png\n",
            "E:/RCOEM/Sem 6/Project/diabetic-retino/diabetic-retinopathy2/diabetic-retinopathy/model/content/0_0/image105.png\n",
            "E:/RCOEM/Sem 6/Project/diabetic-retino/diabetic-retinopathy2/diabetic-retinopathy/model/content/0_0/image106.png\n",
            "E:/RCOEM/Sem 6/Project/diabetic-retino/diabetic-retinopathy2/diabetic-retinopathy/model/content/0_0/image107.png\n",
            "E:/RCOEM/Sem 6/Project/diabetic-retino/diabetic-retinopathy2/diabetic-retinopathy/model/content/0_0/image108.png\n",
            "E:/RCOEM/Sem 6/Project/diabetic-retino/diabetic-retinopathy2/diabetic-retinopathy/model/content/0_0/image109.png\n",
            "E:/RCOEM/Sem 6/Project/diabetic-retino/diabetic-retinopathy2/diabetic-retinopathy/model/content/0_0/image110.png\n",
            "E:/RCOEM/Sem 6/Project/diabetic-retino/diabetic-retinopathy2/diabetic-retinopathy/model/content/0_0/image111.png\n",
            "E:/RCOEM/Sem 6/Project/diabetic-retino/diabetic-retinopathy2/diabetic-retinopathy/model/content/0_0/image112.png\n",
            "E:/RCOEM/Sem 6/Project/diabetic-retino/diabetic-retinopathy2/diabetic-retinopathy/model/content/0_0/image113.png\n",
            "E:/RCOEM/Sem 6/Project/diabetic-retino/diabetic-retinopathy2/diabetic-retinopathy/model/content/0_0/image114.png\n",
            "E:/RCOEM/Sem 6/Project/diabetic-retino/diabetic-retinopathy2/diabetic-retinopathy/model/content/0_0/image115.png\n",
            "E:/RCOEM/Sem 6/Project/diabetic-retino/diabetic-retinopathy2/diabetic-retinopathy/model/content/0_0/image116.png\n",
            "E:/RCOEM/Sem 6/Project/diabetic-retino/diabetic-retinopathy2/diabetic-retinopathy/model/content/0_0/image117.png\n",
            "E:/RCOEM/Sem 6/Project/diabetic-retino/diabetic-retinopathy2/diabetic-retinopathy/model/content/0_0/image118.png\n",
            "E:/RCOEM/Sem 6/Project/diabetic-retino/diabetic-retinopathy2/diabetic-retinopathy/model/content/0_0/image119.png\n",
            "E:/RCOEM/Sem 6/Project/diabetic-retino/diabetic-retinopathy2/diabetic-retinopathy/model/content/0_0/image120.png\n",
            "E:/RCOEM/Sem 6/Project/diabetic-retino/diabetic-retinopathy2/diabetic-retinopathy/model/content/0_0/image121.png\n",
            "E:/RCOEM/Sem 6/Project/diabetic-retino/diabetic-retinopathy2/diabetic-retinopathy/model/content/0_0/image122.png\n",
            "E:/RCOEM/Sem 6/Project/diabetic-retino/diabetic-retinopathy2/diabetic-retinopathy/model/content/0_0/image123.png\n",
            "E:/RCOEM/Sem 6/Project/diabetic-retino/diabetic-retinopathy2/diabetic-retinopathy/model/content/0_0/image124.png\n",
            "E:/RCOEM/Sem 6/Project/diabetic-retino/diabetic-retinopathy2/diabetic-retinopathy/model/content/0_0/image125.png\n",
            "E:/RCOEM/Sem 6/Project/diabetic-retino/diabetic-retinopathy2/diabetic-retinopathy/model/content/0_0/image126.png\n",
            "E:/RCOEM/Sem 6/Project/diabetic-retino/diabetic-retinopathy2/diabetic-retinopathy/model/content/0_0/image127.png\n",
            "E:/RCOEM/Sem 6/Project/diabetic-retino/diabetic-retinopathy2/diabetic-retinopathy/model/content/0_0/image128.png\n",
            "E:/RCOEM/Sem 6/Project/diabetic-retino/diabetic-retinopathy2/diabetic-retinopathy/model/content/0_0/image129.png\n",
            "E:/RCOEM/Sem 6/Project/diabetic-retino/diabetic-retinopathy2/diabetic-retinopathy/model/content/0_0/image130.png\n"
          ]
        }
      ],
      "source": [
        "import os\n",
        "for i in os.listdir(dir0)[:3500]:\n",
        "  print(dir0+\"/\"+i)\n",
        "  img=plt.imread(dir0+\"/\"+i)\n",
        "  img = cv2.cvtColor(img, cv2.COLOR_BGR2GRAY)\n",
        "  #img = crop_image_from_gray(img)\n",
        "  img = cv2.resize(img, (28,28))\n",
        "  image=cv2.addWeighted ( img,4, cv2.GaussianBlur( img , (0,0) , 2.8) ,-4 ,128) \n",
        "  imgs.append(np.array(img))\n",
        "  label.append(0)\n",
        "\n"
      ]
    },
    {
      "cell_type": "code",
      "execution_count": 5,
      "metadata": {
        "id": "NVPFrcINgJW8"
      },
      "outputs": [],
      "source": [
        "for i in os.listdir(dir1)[:3500]:\n",
        "  img=plt.imread(dir1+\"/\"+i)\n",
        "  img = cv2.cvtColor(img, cv2.COLOR_BGR2GRAY)\n",
        "  #img = crop_image_from_gray(img)\n",
        "  img = cv2.resize(img, (28,28))\n",
        "  img =cv2.addWeighted ( img,4, cv2.GaussianBlur( img , (0,0) , 2.8) ,-4 ,128)      \n",
        "  imgs.append(np.array(img))\n",
        "  label.append(1)\n",
        "    \n",
        "for i in os.listdir(dir2)[:3500]:\n",
        "  img=plt.imread(dir2+\"/\"+i)\n",
        "  img = cv2.cvtColor(img, cv2.COLOR_BGR2GRAY)\n",
        "  #img = crop_image_from_gray(img)\n",
        "  img = cv2.resize(img, (28,28))\n",
        "  img =cv2.addWeighted ( img,4, cv2.GaussianBlur( img , (0,0) , 2.8) ,-4 ,128)      \n",
        "  imgs.append(np.array(img))\n",
        "  label.append(2)"
      ]
    },
    {
      "cell_type": "code",
      "execution_count": 6,
      "metadata": {
        "id": "oyxH8iS0gOgf"
      },
      "outputs": [],
      "source": [
        "for i in os.listdir(dir3)[:3500]:\n",
        "      img=plt.imread(dir3+\"/\"+i)\n",
        "      img = cv2.cvtColor(img, cv2.COLOR_BGR2GRAY)\n",
        "      #img = crop_image_from_gray(img)\n",
        "      img = cv2.resize(img, (50,50))\n",
        "      img =cv2.addWeighted ( img,4, cv2.GaussianBlur( img , (0,0) , 2.8) ,-4 ,128)      \n",
        "      imgs.append(np.array(img))\n",
        "      label.append(3)"
      ]
    },
    {
      "cell_type": "code",
      "execution_count": 7,
      "metadata": {
        "id": "iXUMM0USgYnu"
      },
      "outputs": [],
      "source": [
        "for i in os.listdir(dir4)[:3500]:\n",
        "      img=plt.imread(dir4+\"/\"+i)\n",
        "      img = cv2.cvtColor(img, cv2.COLOR_BGR2GRAY)\n",
        "      #img = crop_image_from_gray(img)\n",
        "      img = cv2.resize(img, (28,28))\n",
        "      img =cv2.addWeighted ( img,4, cv2.GaussianBlur( img , (0,0) , 2.8) ,-4 ,128)      \n",
        "      imgs.append(np.array(img))\n",
        "      label.append(4)"
      ]
    },
    {
      "cell_type": "code",
      "execution_count": 8,
      "metadata": {
        "id": "4asNwGcbgd7_"
      },
      "outputs": [
        {
          "name": "stderr",
          "output_type": "stream",
          "text": [
            "C:\\Users\\deves\\AppData\\Local\\Temp\\ipykernel_22644\\1678399374.py:1: VisibleDeprecationWarning: Creating an ndarray from ragged nested sequences (which is a list-or-tuple of lists-or-tuples-or ndarrays with different lengths or shapes) is deprecated. If you meant to do this, you must specify 'dtype=object' when creating the ndarray.\n",
            "  imgs = np.asarray(imgs)\n"
          ]
        }
      ],
      "source": [
        "imgs = np.asarray(imgs)\n",
        "label = np.asarray(label)"
      ]
    },
    {
      "cell_type": "code",
      "execution_count": 32,
      "metadata": {
        "colab": {
          "base_uri": "https://localhost:8080/"
        },
        "id": "h8zZT2Wwggu3",
        "outputId": "65751149-0f75-4129-9edf-41d185b84a3b"
      },
      "outputs": [
        {
          "name": "stdout",
          "output_type": "stream",
          "text": [
            "(455,)\n",
            "(455,)\n",
            "(195,)\n",
            "(195,)\n"
          ]
        }
      ],
      "source": [
        "from sklearn.model_selection import train_test_split\n",
        "X_train, X_test, Y_train, Y_test = train_test_split(imgs,label,test_size=0.3,shuffle=True)"
      ]
    },
    {
      "cell_type": "code",
      "execution_count": 40,
      "metadata": {},
      "outputs": [],
      "source": [
        "from skimage.transform import resize\n",
        "\n",
        "height, width = 128, 128\n",
        "\n",
        "X_train_resized = np.array([resize(x, (height, width)) for x in X_train])\n",
        "X_test_resized = np.array([resize(x, (height, width)) for x in X_test])\n",
        "import cv2\n",
        "height, width = 128, 128\n",
        "\n",
        "# Resize the image size to (128, 128)\n",
        "X_train_resized = np.array([cv2.resize(x, dsize=(height, width)).astype(float) for x in X_train])\n",
        "X_test_resized = np.array([cv2.resize(x, dsize=(height, width)).astype(float) for x in X_test])\n"
      ]
    },
    {
      "cell_type": "code",
      "execution_count": null,
      "metadata": {
        "id": "6Xo5KxJsgkA7"
      },
      "outputs": [],
      "source": [
        "height,width = 128,128\n",
        "\n",
        "# Resize the image size to (128, 128)\n",
        "X_train = X_train.reshape((-1, 28, 28))\n",
        "X_train = np.array([cv2.resize(x, dsize=(height, width)).astype(float) for x in X_train_resized])\n",
        "X_train = X_train.reshape((X_train.shape[0], height, width, 1))\n",
        "\n",
        "X_test = X_test.reshape((-1,28,28))\n",
        "X_test = np.array([cv2.resize(x, dsize=(height, width)).astype(float) for x in X_test_resized])\n",
        "X_test = X_test.reshape((X_test.shape[0], height, width, 1))\n"
      ]
    },
    {
      "cell_type": "code",
      "execution_count": 38,
      "metadata": {},
      "outputs": [],
      "source": [
        "import cv2\n",
        "height, width = 128, 128\n",
        "\n",
        "# Resize the image size to (128, 128)\n",
        "X_train_resized = np.array([cv2.resize(x, dsize=(height, width)).astype(float) for x in X_train])\n",
        "X_test_resized = np.array([cv2.resize(x, dsize=(height, width)).astype(float) for x in X_test])\n"
      ]
    },
    {
      "cell_type": "code",
      "execution_count": 20,
      "metadata": {
        "id": "vKdnyJp4gnlh"
      },
      "outputs": [],
      "source": [
        "y_binary_train = tf.one_hot(Y_train,5)\n",
        "y_binary_test = tf.one_hot(Y_test,5)"
      ]
    },
    {
      "cell_type": "code",
      "execution_count": 30,
      "metadata": {
        "colab": {
          "base_uri": "https://localhost:8080/"
        },
        "id": "Q26EZ0dLgrJM",
        "outputId": "2c5e064f-fee9-45af-bec0-667cf91e6288"
      },
      "outputs": [
        {
          "name": "stdout",
          "output_type": "stream",
          "text": [
            "(455,)\n",
            "(455, 5)\n",
            "(195,)\n",
            "(195, 5)\n"
          ]
        }
      ],
      "source": [
        "print(X_train.shape)\n",
        "print(y_binary_train.shape)\n",
        "print(X_test.shape)\n",
        "print(y_binary_test.shape)"
      ]
    },
    {
      "cell_type": "code",
      "execution_count": null,
      "metadata": {},
      "outputs": [],
      "source": [
        "X_train = X_train.reshape((-1, height, width, 1))\n",
        "X_test = X_test.reshape((-1, height, width, 1))\n"
      ]
    },
    {
      "cell_type": "code",
      "execution_count": 22,
      "metadata": {
        "id": "X-Fwqcyqgtay"
      },
      "outputs": [],
      "source": [
        "# Define Image Data Generator for training set\n",
        "train_datagen = ImageDataGenerator(rescale=1./255,\n",
        "                                   rotation_range=5,\n",
        "                                   shear_range=0.1,\n",
        "                                   zoom_range=0.2, \n",
        "                                   horizontal_flip=True)\n",
        "\n",
        "# Define Image Generator for test set\n",
        "test_datagen = ImageDataGenerator(rescale=1./255)"
      ]
    },
    {
      "cell_type": "code",
      "execution_count": null,
      "metadata": {
        "colab": {
          "base_uri": "https://localhost:8080/",
          "height": 269
        },
        "id": "eG-7qQYZgw0o",
        "outputId": "e2c15263-a161-4af4-ce04-aa084a59f9b1"
      },
      "outputs": [
        {
          "data": {
            "image/png": "[encoded data removed]",
            "text/plain": [
              "<Figure size 432x288 with 9 Axes>"
            ]
          },
          "metadata": {
            "needs_background": "light"
          },
          "output_type": "display_data"
        }
      ],
      "source": [
        "for X_batch, y_batch in train_datagen.flow(X_train, y_binary_train, batch_size=9, seed=42):\n",
        "    # create a grid of 3x3 images\n",
        "    for i in range(0, 9):\n",
        "        plt.subplot(330 + 1 + i)\n",
        "        plt.imshow(X_batch[i].reshape(height, width))\n",
        "    # show the plot\n",
        "    plt.show()\n",
        "    break"
      ]
    },
    {
      "cell_type": "code",
      "execution_count": 23,
      "metadata": {
        "id": "MsCK4bZwgzEL"
      },
      "outputs": [],
      "source": [
        "def mobile_net(height, width):\n",
        "  \n",
        "  # Define Input layer\n",
        "  input = Input(shape=(height, width, 1))\n",
        "  \n",
        "  # Add a Reshape layer\n",
        "  input_image = Reshape((height, width), input_shape=(height, width, 1))(input)\n",
        "  \n",
        "  # Add Lambda layer to expand the image to 3 channels\n",
        "  input_image = Lambda(lambda x: K.repeat_elements(K.expand_dims(x,3),3,3))(input_image)\n",
        "  \n",
        "  # Create MobileNets base model with pre-trained weights\n",
        "  base_model = MobileNet(input_shape=(height, width, 3),\n",
        "                         input_tensor=input_image, \n",
        "                         weights='imagenet', \n",
        "                         include_top=False)\n",
        "\n",
        "  # Add a global average pooling layer\n",
        "  x = GlobalAveragePooling2D()(base_model.output)\n",
        "  \n",
        "  # Add output layer\n",
        "  output = Dense(5, activation='softmax')(x)\n",
        "\n",
        "  model = Model(inputs=input, outputs=output)\n",
        "  return model\n"
      ]
    },
    {
      "cell_type": "code",
      "execution_count": 24,
      "metadata": {
        "colab": {
          "base_uri": "https://localhost:8080/"
        },
        "id": "WjxUsSI2g3JL",
        "outputId": "5c167235-b5b0-4fd5-9b95-9e14b83b809a"
      },
      "outputs": [
        {
          "name": "stdout",
          "output_type": "stream",
          "text": [
            "Downloading data from https://storage.googleapis.com/tensorflow/keras-applications/mobilenet/mobilenet_1_0_128_tf_no_top.h5\n",
            "17225924/17225924 [==============================] - 10s 1us/step\n",
            "Model: \"model\"\n",
            "_________________________________________________________________\n",
            " Layer (type)                Output Shape              Param #   \n",
            "=================================================================\n",
            " input_1 (InputLayer)        [(None, 128, 128, 1)]     0         \n",
            "                                                                 \n",
            " reshape (Reshape)           (None, 128, 128)          0         \n",
            "                                                                 \n",
            " lambda (Lambda)             (None, 128, 128, 3)       0         \n",
            "                                                                 \n",
            " conv1 (Conv2D)              (None, 64, 64, 32)        864       \n",
            "                                                                 \n",
            " conv1_bn (BatchNormalizatio  (None, 64, 64, 32)       128       \n",
            " n)                                                              \n",
            "                                                                 \n",
            " conv1_relu (ReLU)           (None, 64, 64, 32)        0         \n",
            "                                                                 \n",
            " conv_dw_1 (DepthwiseConv2D)  (None, 64, 64, 32)       288       \n",
            "                                                                 \n",
            " conv_dw_1_bn (BatchNormaliz  (None, 64, 64, 32)       128       \n",
            " ation)                                                          \n",
            "                                                                 \n",
            " conv_dw_1_relu (ReLU)       (None, 64, 64, 32)        0         \n",
            "                                                                 \n",
            " conv_pw_1 (Conv2D)          (None, 64, 64, 64)        2048      \n",
            "                                                                 \n",
            " conv_pw_1_bn (BatchNormaliz  (None, 64, 64, 64)       256       \n",
            " ation)                                                          \n",
            "                                                                 \n",
            " conv_pw_1_relu (ReLU)       (None, 64, 64, 64)        0         \n",
            "                                                                 \n",
            " conv_pad_2 (ZeroPadding2D)  (None, 65, 65, 64)        0         \n",
            "                                                                 \n",
            " conv_dw_2 (DepthwiseConv2D)  (None, 32, 32, 64)       576       \n",
            "                                                                 \n",
            " conv_dw_2_bn (BatchNormaliz  (None, 32, 32, 64)       256       \n",
            " ation)                                                          \n",
            "                                                                 \n",
            " conv_dw_2_relu (ReLU)       (None, 32, 32, 64)        0         \n",
            "                                                                 \n",
            " conv_pw_2 (Conv2D)          (None, 32, 32, 128)       8192      \n",
            "                                                                 \n",
            " conv_pw_2_bn (BatchNormaliz  (None, 32, 32, 128)      512       \n",
            " ation)                                                          \n",
            "                                                                 \n",
            " conv_pw_2_relu (ReLU)       (None, 32, 32, 128)       0         \n",
            "                                                                 \n",
            " conv_dw_3 (DepthwiseConv2D)  (None, 32, 32, 128)      1152      \n",
            "                                                                 \n",
            " conv_dw_3_bn (BatchNormaliz  (None, 32, 32, 128)      512       \n",
            " ation)                                                          \n",
            "                                                                 \n",
            " conv_dw_3_relu (ReLU)       (None, 32, 32, 128)       0         \n",
            "                                                                 \n",
            " conv_pw_3 (Conv2D)          (None, 32, 32, 128)       16384     \n",
            "                                                                 \n",
            " conv_pw_3_bn (BatchNormaliz  (None, 32, 32, 128)      512       \n",
            " ation)                                                          \n",
            "                                                                 \n",
            " conv_pw_3_relu (ReLU)       (None, 32, 32, 128)       0         \n",
            "                                                                 \n",
            " conv_pad_4 (ZeroPadding2D)  (None, 33, 33, 128)       0         \n",
            "                                                                 \n",
            " conv_dw_4 (DepthwiseConv2D)  (None, 16, 16, 128)      1152      \n",
            "                                                                 \n",
            " conv_dw_4_bn (BatchNormaliz  (None, 16, 16, 128)      512       \n",
            " ation)                                                          \n",
            "                                                                 \n",
            " conv_dw_4_relu (ReLU)       (None, 16, 16, 128)       0         \n",
            "                                                                 \n",
            " conv_pw_4 (Conv2D)          (None, 16, 16, 256)       32768     \n",
            "                                                                 \n",
            " conv_pw_4_bn (BatchNormaliz  (None, 16, 16, 256)      1024      \n",
            " ation)                                                          \n",
            "                                                                 \n",
            " conv_pw_4_relu (ReLU)       (None, 16, 16, 256)       0         \n",
            "                                                                 \n",
            " conv_dw_5 (DepthwiseConv2D)  (None, 16, 16, 256)      2304      \n",
            "                                                                 \n",
            " conv_dw_5_bn (BatchNormaliz  (None, 16, 16, 256)      1024      \n",
            " ation)                                                          \n",
            "                                                                 \n",
            " conv_dw_5_relu (ReLU)       (None, 16, 16, 256)       0         \n",
            "                                                                 \n",
            " conv_pw_5 (Conv2D)          (None, 16, 16, 256)       65536     \n",
            "                                                                 \n",
            " conv_pw_5_bn (BatchNormaliz  (None, 16, 16, 256)      1024      \n",
            " ation)                                                          \n",
            "                                                                 \n",
            " conv_pw_5_relu (ReLU)       (None, 16, 16, 256)       0         \n",
            "                                                                 \n",
            " conv_pad_6 (ZeroPadding2D)  (None, 17, 17, 256)       0         \n",
            "                                                                 \n",
            " conv_dw_6 (DepthwiseConv2D)  (None, 8, 8, 256)        2304      \n",
            "                                                                 \n",
            " conv_dw_6_bn (BatchNormaliz  (None, 8, 8, 256)        1024      \n",
            " ation)                                                          \n",
            "                                                                 \n",
            " conv_dw_6_relu (ReLU)       (None, 8, 8, 256)         0         \n",
            "                                                                 \n",
            " conv_pw_6 (Conv2D)          (None, 8, 8, 512)         131072    \n",
            "                                                                 \n",
            " conv_pw_6_bn (BatchNormaliz  (None, 8, 8, 512)        2048      \n",
            " ation)                                                          \n",
            "                                                                 \n",
            " conv_pw_6_relu (ReLU)       (None, 8, 8, 512)         0         \n",
            "                                                                 \n",
            " conv_dw_7 (DepthwiseConv2D)  (None, 8, 8, 512)        4608      \n",
            "                                                                 \n",
            " conv_dw_7_bn (BatchNormaliz  (None, 8, 8, 512)        2048      \n",
            " ation)                                                          \n",
            "                                                                 \n",
            " conv_dw_7_relu (ReLU)       (None, 8, 8, 512)         0         \n",
            "                                                                 \n",
            " conv_pw_7 (Conv2D)          (None, 8, 8, 512)         262144    \n",
            "                                                                 \n",
            " conv_pw_7_bn (BatchNormaliz  (None, 8, 8, 512)        2048      \n",
            " ation)                                                          \n",
            "                                                                 \n",
            " conv_pw_7_relu (ReLU)       (None, 8, 8, 512)         0         \n",
            "                                                                 \n",
            " conv_dw_8 (DepthwiseConv2D)  (None, 8, 8, 512)        4608      \n",
            "                                                                 \n",
            " conv_dw_8_bn (BatchNormaliz  (None, 8, 8, 512)        2048      \n",
            " ation)                                                          \n",
            "                                                                 \n",
            " conv_dw_8_relu (ReLU)       (None, 8, 8, 512)         0         \n",
            "                                                                 \n",
            " conv_pw_8 (Conv2D)          (None, 8, 8, 512)         262144    \n",
            "                                                                 \n",
            " conv_pw_8_bn (BatchNormaliz  (None, 8, 8, 512)        2048      \n",
            " ation)                                                          \n",
            "                                                                 \n",
            " conv_pw_8_relu (ReLU)       (None, 8, 8, 512)         0         \n",
            "                                                                 \n",
            " conv_dw_9 (DepthwiseConv2D)  (None, 8, 8, 512)        4608      \n",
            "                                                                 \n",
            " conv_dw_9_bn (BatchNormaliz  (None, 8, 8, 512)        2048      \n",
            " ation)                                                          \n",
            "                                                                 \n",
            " conv_dw_9_relu (ReLU)       (None, 8, 8, 512)         0         \n",
            "                                                                 \n",
            " conv_pw_9 (Conv2D)          (None, 8, 8, 512)         262144    \n",
            "                                                                 \n",
            " conv_pw_9_bn (BatchNormaliz  (None, 8, 8, 512)        2048      \n",
            " ation)                                                          \n",
            "                                                                 \n",
            " conv_pw_9_relu (ReLU)       (None, 8, 8, 512)         0         \n",
            "                                                                 \n",
            " conv_dw_10 (DepthwiseConv2D  (None, 8, 8, 512)        4608      \n",
            " )                                                               \n",
            "                                                                 \n",
            " conv_dw_10_bn (BatchNormali  (None, 8, 8, 512)        2048      \n",
            " zation)                                                         \n",
            "                                                                 \n",
            " conv_dw_10_relu (ReLU)      (None, 8, 8, 512)         0         \n",
            "                                                                 \n",
            " conv_pw_10 (Conv2D)         (None, 8, 8, 512)         262144    \n",
            "                                                                 \n",
            " conv_pw_10_bn (BatchNormali  (None, 8, 8, 512)        2048      \n",
            " zation)                                                         \n",
            "                                                                 \n",
            " conv_pw_10_relu (ReLU)      (None, 8, 8, 512)         0         \n",
            "                                                                 \n",
            " conv_dw_11 (DepthwiseConv2D  (None, 8, 8, 512)        4608      \n",
            " )                                                               \n",
            "                                                                 \n",
            " conv_dw_11_bn (BatchNormali  (None, 8, 8, 512)        2048      \n",
            " zation)                                                         \n",
            "                                                                 \n",
            " conv_dw_11_relu (ReLU)      (None, 8, 8, 512)         0         \n",
            "                                                                 \n",
            " conv_pw_11 (Conv2D)         (None, 8, 8, 512)         262144    \n",
            "                                                                 \n",
            " conv_pw_11_bn (BatchNormali  (None, 8, 8, 512)        2048      \n",
            " zation)                                                         \n",
            "                                                                 \n",
            " conv_pw_11_relu (ReLU)      (None, 8, 8, 512)         0         \n",
            "                                                                 \n",
            " conv_pad_12 (ZeroPadding2D)  (None, 9, 9, 512)        0         \n",
            "                                                                 \n",
            " conv_dw_12 (DepthwiseConv2D  (None, 4, 4, 512)        4608      \n",
            " )                                                               \n",
            "                                                                 \n",
            " conv_dw_12_bn (BatchNormali  (None, 4, 4, 512)        2048      \n",
            " zation)                                                         \n",
            "                                                                 \n",
            " conv_dw_12_relu (ReLU)      (None, 4, 4, 512)         0         \n",
            "                                                                 \n",
            " conv_pw_12 (Conv2D)         (None, 4, 4, 1024)        524288    \n",
            "                                                                 \n",
            " conv_pw_12_bn (BatchNormali  (None, 4, 4, 1024)       4096      \n",
            " zation)                                                         \n",
            "                                                                 \n",
            " conv_pw_12_relu (ReLU)      (None, 4, 4, 1024)        0         \n",
            "                                                                 \n",
            " conv_dw_13 (DepthwiseConv2D  (None, 4, 4, 1024)       9216      \n",
            " )                                                               \n",
            "                                                                 \n",
            " conv_dw_13_bn (BatchNormali  (None, 4, 4, 1024)       4096      \n",
            " zation)                                                         \n",
            "                                                                 \n",
            " conv_dw_13_relu (ReLU)      (None, 4, 4, 1024)        0         \n",
            "                                                                 \n",
            " conv_pw_13 (Conv2D)         (None, 4, 4, 1024)        1048576   \n",
            "                                                                 \n",
            " conv_pw_13_bn (BatchNormali  (None, 4, 4, 1024)       4096      \n",
            " zation)                                                         \n",
            "                                                                 \n",
            " conv_pw_13_relu (ReLU)      (None, 4, 4, 1024)        0         \n",
            "                                                                 \n",
            " global_average_pooling2d (G  (None, 1024)             0         \n",
            " lobalAveragePooling2D)                                          \n",
            "                                                                 \n",
            " dense (Dense)               (None, 5)                 5125      \n",
            "                                                                 \n",
            "=================================================================\n",
            "Total params: 3,233,989\n",
            "Trainable params: 3,212,101\n",
            "Non-trainable params: 21,888\n",
            "_________________________________________________________________\n"
          ]
        }
      ],
      "source": [
        "# Instantiate a model\n",
        "model = mobile_net(height, width)\n",
        "# Show model summary\n",
        "model.summary()\n",
        "#plot_model(model, to_file='mobile_net.png', show_shapes=True)"
      ]
    },
    {
      "cell_type": "code",
      "execution_count": 43,
      "metadata": {},
      "outputs": [],
      "source": [
        "X_train_resized = X_train_resized.reshape((-1, 128, 128, 1))\n",
        "X_test_resized = X_test_resized.reshape((-1, 128, 128, 1))"
      ]
    },
    {
      "cell_type": "code",
      "execution_count": 44,
      "metadata": {
        "colab": {
          "base_uri": "https://localhost:8080/"
        },
        "id": "uaDJuAkUg8l5",
        "outputId": "a482ae34-9bce-4388-c812-e81693256494"
      },
      "outputs": [
        {
          "name": "stdout",
          "output_type": "stream",
          "text": [
            "Epoch 1/100\n",
            "15/15 [==============================] - 14s 781ms/step - loss: 2.5197 - accuracy: 0.1560 - val_loss: 2.0340 - val_accuracy: 0.1744\n",
            "Epoch 2/100\n",
            "15/15 [==============================] - 11s 769ms/step - loss: 1.9876 - accuracy: 0.2088 - val_loss: 2.1103 - val_accuracy: 0.2359\n",
            "Epoch 3/100\n",
            "15/15 [==============================] - 11s 710ms/step - loss: 1.7787 - accuracy: 0.2264 - val_loss: 2.1516 - val_accuracy: 0.2359\n",
            "Epoch 4/100\n",
            "15/15 [==============================] - 11s 704ms/step - loss: 1.8674 - accuracy: 0.2198 - val_loss: 2.5332 - val_accuracy: 0.2359\n",
            "Epoch 5/100\n",
            "15/15 [==============================] - 11s 767ms/step - loss: 1.8509 - accuracy: 0.2154 - val_loss: 2.0211 - val_accuracy: 0.2000\n",
            "Epoch 6/100\n",
            "15/15 [==============================] - 11s 725ms/step - loss: 1.9001 - accuracy: 0.2220 - val_loss: 2.0835 - val_accuracy: 0.2000\n",
            "Epoch 7/100\n",
            "15/15 [==============================] - 12s 771ms/step - loss: 1.8169 - accuracy: 0.2418 - val_loss: 1.9368 - val_accuracy: 0.2103\n",
            "Epoch 8/100\n",
            "15/15 [==============================] - 11s 738ms/step - loss: 1.7222 - accuracy: 0.2330 - val_loss: 1.7708 - val_accuracy: 0.1897\n",
            "Epoch 9/100\n",
            "15/15 [==============================] - 10s 700ms/step - loss: 1.6943 - accuracy: 0.2659 - val_loss: 2.1491 - val_accuracy: 0.2462\n",
            "Epoch 10/100\n",
            "15/15 [==============================] - 10s 695ms/step - loss: 1.6653 - accuracy: 0.2703 - val_loss: 1.9054 - val_accuracy: 0.2410\n",
            "Epoch 11/100\n",
            "15/15 [==============================] - 10s 697ms/step - loss: 1.6449 - accuracy: 0.2791 - val_loss: 1.9945 - val_accuracy: 0.1795\n",
            "Epoch 12/100\n",
            "15/15 [==============================] - 10s 699ms/step - loss: 1.7516 - accuracy: 0.2527 - val_loss: 2.1432 - val_accuracy: 0.1846\n",
            "Epoch 13/100\n",
            "15/15 [==============================] - 11s 711ms/step - loss: 1.7380 - accuracy: 0.2703 - val_loss: 2.4780 - val_accuracy: 0.1641\n",
            "Epoch 14/100\n",
            "15/15 [==============================] - 11s 703ms/step - loss: 1.6796 - accuracy: 0.2659 - val_loss: 2.1919 - val_accuracy: 0.1846\n",
            "Epoch 15/100\n",
            "15/15 [==============================] - 11s 702ms/step - loss: 1.6532 - accuracy: 0.2879 - val_loss: 2.0972 - val_accuracy: 0.2103\n",
            "Epoch 16/100\n",
            "15/15 [==============================] - 11s 708ms/step - loss: 1.6616 - accuracy: 0.2769 - val_loss: 2.1013 - val_accuracy: 0.1897\n",
            "Epoch 17/100\n",
            "15/15 [==============================] - 11s 711ms/step - loss: 1.6628 - accuracy: 0.2681 - val_loss: 2.1883 - val_accuracy: 0.1641\n",
            "Epoch 18/100\n",
            "15/15 [==============================] - 11s 707ms/step - loss: 1.5740 - accuracy: 0.3121 - val_loss: 1.9626 - val_accuracy: 0.1590\n",
            "Epoch 19/100\n",
            "15/15 [==============================] - 11s 705ms/step - loss: 1.5531 - accuracy: 0.2967 - val_loss: 2.0435 - val_accuracy: 0.1846\n",
            "Epoch 20/100\n",
            "15/15 [==============================] - 11s 703ms/step - loss: 1.5422 - accuracy: 0.3297 - val_loss: 1.9682 - val_accuracy: 0.1744\n",
            "Epoch 21/100\n",
            "15/15 [==============================] - 11s 724ms/step - loss: 1.5905 - accuracy: 0.3516 - val_loss: 2.6177 - val_accuracy: 0.2103\n",
            "Epoch 22/100\n",
            "15/15 [==============================] - ETA: 0s - loss: 1.5150 - accuracy: 0.3495"
          ]
        },
        {
          "ename": "KeyboardInterrupt",
          "evalue": "",
          "output_type": "error",
          "traceback": [
            "\u001b[1;31m---------------------------------------------------------------------------\u001b[0m",
            "\u001b[1;31mKeyboardInterrupt\u001b[0m                         Traceback (most recent call last)",
            "\u001b[1;32me:\\RCOEM\\Sem 6\\Project\\diabetic-retino\\diabetic-retinopathy2\\diabetic-retinopathy\\model\\dr_model(85.21%) - Copy.ipynb Cell 22\u001b[0m in \u001b[0;36m<cell line: 8>\u001b[1;34m()\u001b[0m\n\u001b[0;32m      <a href='vscode-notebook-cell:/e%3A/RCOEM/Sem%206/Project/diabetic-retino/diabetic-retinopathy2/diabetic-retinopathy/model/dr_model%2885.21%25%29%20-%20Copy.ipynb#X23sZmlsZQ%3D%3D?line=1'>2</a>\u001b[0m model\u001b[39m.\u001b[39mcompile(optimizer\u001b[39m=\u001b[39mopt, loss\u001b[39m=\u001b[39m\u001b[39m'\u001b[39m\u001b[39mcategorical_crossentropy\u001b[39m\u001b[39m'\u001b[39m, metrics\u001b[39m=\u001b[39m[\u001b[39m'\u001b[39m\u001b[39maccuracy\u001b[39m\u001b[39m'\u001b[39m])\n\u001b[0;32m      <a href='vscode-notebook-cell:/e%3A/RCOEM/Sem%206/Project/diabetic-retino/diabetic-retinopathy2/diabetic-retinopathy/model/dr_model%2885.21%25%29%20-%20Copy.ipynb#X23sZmlsZQ%3D%3D?line=3'>4</a>\u001b[0m checkpointer \u001b[39m=\u001b[39m ModelCheckpoint(filepath\u001b[39m=\u001b[39m\u001b[39m\"\u001b[39m\u001b[39mmobile_net.h5\u001b[39m\u001b[39m\"\u001b[39m,\n\u001b[0;32m      <a href='vscode-notebook-cell:/e%3A/RCOEM/Sem%206/Project/diabetic-retino/diabetic-retinopathy2/diabetic-retinopathy/model/dr_model%2885.21%25%29%20-%20Copy.ipynb#X23sZmlsZQ%3D%3D?line=4'>5</a>\u001b[0m                                verbose\u001b[39m=\u001b[39m\u001b[39m0\u001b[39m,\n\u001b[0;32m      <a href='vscode-notebook-cell:/e%3A/RCOEM/Sem%206/Project/diabetic-retino/diabetic-retinopathy2/diabetic-retinopathy/model/dr_model%2885.21%25%29%20-%20Copy.ipynb#X23sZmlsZQ%3D%3D?line=5'>6</a>\u001b[0m                                save_best_only\u001b[39m=\u001b[39m\u001b[39mTrue\u001b[39;00m)\n\u001b[1;32m----> <a href='vscode-notebook-cell:/e%3A/RCOEM/Sem%206/Project/diabetic-retino/diabetic-retinopathy2/diabetic-retinopathy/model/dr_model%2885.21%25%29%20-%20Copy.ipynb#X23sZmlsZQ%3D%3D?line=7'>8</a>\u001b[0m history \u001b[39m=\u001b[39m model\u001b[39m.\u001b[39;49mfit(train_datagen\u001b[39m.\u001b[39;49mflow(X_train_resized, y_binary_train, batch_size\u001b[39m=\u001b[39;49m\u001b[39m32\u001b[39;49m, seed\u001b[39m=\u001b[39;49m\u001b[39m42\u001b[39;49m), \n\u001b[0;32m      <a href='vscode-notebook-cell:/e%3A/RCOEM/Sem%206/Project/diabetic-retino/diabetic-retinopathy2/diabetic-retinopathy/model/dr_model%2885.21%25%29%20-%20Copy.ipynb#X23sZmlsZQ%3D%3D?line=8'>9</a>\u001b[0m                     validation_data\u001b[39m=\u001b[39;49mtest_datagen\u001b[39m.\u001b[39;49mflow(X_test_resized, y_binary_test, batch_size\u001b[39m=\u001b[39;49m\u001b[39m32\u001b[39;49m, seed\u001b[39m=\u001b[39;49m\u001b[39m42\u001b[39;49m),\n\u001b[0;32m     <a href='vscode-notebook-cell:/e%3A/RCOEM/Sem%206/Project/diabetic-retino/diabetic-retinopathy2/diabetic-retinopathy/model/dr_model%2885.21%25%29%20-%20Copy.ipynb#X23sZmlsZQ%3D%3D?line=9'>10</a>\u001b[0m                     callbacks\u001b[39m=\u001b[39;49m[checkpointer],\n\u001b[0;32m     <a href='vscode-notebook-cell:/e%3A/RCOEM/Sem%206/Project/diabetic-retino/diabetic-retinopathy2/diabetic-retinopathy/model/dr_model%2885.21%25%29%20-%20Copy.ipynb#X23sZmlsZQ%3D%3D?line=10'>11</a>\u001b[0m                     epochs \u001b[39m=\u001b[39;49m \u001b[39m100\u001b[39;49m)\n",
            "File \u001b[1;32m~\\AppData\\Roaming\\Python\\Python310\\site-packages\\keras\\utils\\traceback_utils.py:65\u001b[0m, in \u001b[0;36mfilter_traceback.<locals>.error_handler\u001b[1;34m(*args, **kwargs)\u001b[0m\n\u001b[0;32m     63\u001b[0m filtered_tb \u001b[39m=\u001b[39m \u001b[39mNone\u001b[39;00m\n\u001b[0;32m     64\u001b[0m \u001b[39mtry\u001b[39;00m:\n\u001b[1;32m---> 65\u001b[0m     \u001b[39mreturn\u001b[39;00m fn(\u001b[39m*\u001b[39margs, \u001b[39m*\u001b[39m\u001b[39m*\u001b[39mkwargs)\n\u001b[0;32m     66\u001b[0m \u001b[39mexcept\u001b[39;00m \u001b[39mException\u001b[39;00m \u001b[39mas\u001b[39;00m e:\n\u001b[0;32m     67\u001b[0m     filtered_tb \u001b[39m=\u001b[39m _process_traceback_frames(e\u001b[39m.\u001b[39m__traceback__)\n",
            "File \u001b[1;32m~\\AppData\\Roaming\\Python\\Python310\\site-packages\\keras\\engine\\training.py:1606\u001b[0m, in \u001b[0;36mModel.fit\u001b[1;34m(self, x, y, batch_size, epochs, verbose, callbacks, validation_split, validation_data, shuffle, class_weight, sample_weight, initial_epoch, steps_per_epoch, validation_steps, validation_batch_size, validation_freq, max_queue_size, workers, use_multiprocessing)\u001b[0m\n\u001b[0;32m   1591\u001b[0m \u001b[39mif\u001b[39;00m \u001b[39mgetattr\u001b[39m(\u001b[39mself\u001b[39m, \u001b[39m\"\u001b[39m\u001b[39m_eval_data_handler\u001b[39m\u001b[39m\"\u001b[39m, \u001b[39mNone\u001b[39;00m) \u001b[39mis\u001b[39;00m \u001b[39mNone\u001b[39;00m:\n\u001b[0;32m   1592\u001b[0m     \u001b[39mself\u001b[39m\u001b[39m.\u001b[39m_eval_data_handler \u001b[39m=\u001b[39m data_adapter\u001b[39m.\u001b[39mget_data_handler(\n\u001b[0;32m   1593\u001b[0m         x\u001b[39m=\u001b[39mval_x,\n\u001b[0;32m   1594\u001b[0m         y\u001b[39m=\u001b[39mval_y,\n\u001b[1;32m   (...)\u001b[0m\n\u001b[0;32m   1604\u001b[0m         steps_per_execution\u001b[39m=\u001b[39m\u001b[39mself\u001b[39m\u001b[39m.\u001b[39m_steps_per_execution,\n\u001b[0;32m   1605\u001b[0m     )\n\u001b[1;32m-> 1606\u001b[0m val_logs \u001b[39m=\u001b[39m \u001b[39mself\u001b[39;49m\u001b[39m.\u001b[39;49mevaluate(\n\u001b[0;32m   1607\u001b[0m     x\u001b[39m=\u001b[39;49mval_x,\n\u001b[0;32m   1608\u001b[0m     y\u001b[39m=\u001b[39;49mval_y,\n\u001b[0;32m   1609\u001b[0m     sample_weight\u001b[39m=\u001b[39;49mval_sample_weight,\n\u001b[0;32m   1610\u001b[0m     batch_size\u001b[39m=\u001b[39;49mvalidation_batch_size \u001b[39mor\u001b[39;49;00m batch_size,\n\u001b[0;32m   1611\u001b[0m     steps\u001b[39m=\u001b[39;49mvalidation_steps,\n\u001b[0;32m   1612\u001b[0m     callbacks\u001b[39m=\u001b[39;49mcallbacks,\n\u001b[0;32m   1613\u001b[0m     max_queue_size\u001b[39m=\u001b[39;49mmax_queue_size,\n\u001b[0;32m   1614\u001b[0m     workers\u001b[39m=\u001b[39;49mworkers,\n\u001b[0;32m   1615\u001b[0m     use_multiprocessing\u001b[39m=\u001b[39;49muse_multiprocessing,\n\u001b[0;32m   1616\u001b[0m     return_dict\u001b[39m=\u001b[39;49m\u001b[39mTrue\u001b[39;49;00m,\n\u001b[0;32m   1617\u001b[0m     _use_cached_eval_dataset\u001b[39m=\u001b[39;49m\u001b[39mTrue\u001b[39;49;00m,\n\u001b[0;32m   1618\u001b[0m )\n\u001b[0;32m   1619\u001b[0m val_logs \u001b[39m=\u001b[39m {\n\u001b[0;32m   1620\u001b[0m     \u001b[39m\"\u001b[39m\u001b[39mval_\u001b[39m\u001b[39m\"\u001b[39m \u001b[39m+\u001b[39m name: val \u001b[39mfor\u001b[39;00m name, val \u001b[39min\u001b[39;00m val_logs\u001b[39m.\u001b[39mitems()\n\u001b[0;32m   1621\u001b[0m }\n\u001b[0;32m   1622\u001b[0m epoch_logs\u001b[39m.\u001b[39mupdate(val_logs)\n",
            "File \u001b[1;32m~\\AppData\\Roaming\\Python\\Python310\\site-packages\\keras\\utils\\traceback_utils.py:65\u001b[0m, in \u001b[0;36mfilter_traceback.<locals>.error_handler\u001b[1;34m(*args, **kwargs)\u001b[0m\n\u001b[0;32m     63\u001b[0m filtered_tb \u001b[39m=\u001b[39m \u001b[39mNone\u001b[39;00m\n\u001b[0;32m     64\u001b[0m \u001b[39mtry\u001b[39;00m:\n\u001b[1;32m---> 65\u001b[0m     \u001b[39mreturn\u001b[39;00m fn(\u001b[39m*\u001b[39margs, \u001b[39m*\u001b[39m\u001b[39m*\u001b[39mkwargs)\n\u001b[0;32m     66\u001b[0m \u001b[39mexcept\u001b[39;00m \u001b[39mException\u001b[39;00m \u001b[39mas\u001b[39;00m e:\n\u001b[0;32m     67\u001b[0m     filtered_tb \u001b[39m=\u001b[39m _process_traceback_frames(e\u001b[39m.\u001b[39m__traceback__)\n",
            "File \u001b[1;32m~\\AppData\\Roaming\\Python\\Python310\\site-packages\\keras\\engine\\training.py:1947\u001b[0m, in \u001b[0;36mModel.evaluate\u001b[1;34m(self, x, y, batch_size, verbose, sample_weight, steps, callbacks, max_queue_size, workers, use_multiprocessing, return_dict, **kwargs)\u001b[0m\n\u001b[0;32m   1943\u001b[0m \u001b[39mwith\u001b[39;00m tf\u001b[39m.\u001b[39mprofiler\u001b[39m.\u001b[39mexperimental\u001b[39m.\u001b[39mTrace(\n\u001b[0;32m   1944\u001b[0m     \u001b[39m\"\u001b[39m\u001b[39mtest\u001b[39m\u001b[39m\"\u001b[39m, step_num\u001b[39m=\u001b[39mstep, _r\u001b[39m=\u001b[39m\u001b[39m1\u001b[39m\n\u001b[0;32m   1945\u001b[0m ):\n\u001b[0;32m   1946\u001b[0m     callbacks\u001b[39m.\u001b[39mon_test_batch_begin(step)\n\u001b[1;32m-> 1947\u001b[0m     tmp_logs \u001b[39m=\u001b[39m \u001b[39mself\u001b[39;49m\u001b[39m.\u001b[39;49mtest_function(iterator)\n\u001b[0;32m   1948\u001b[0m     \u001b[39mif\u001b[39;00m data_handler\u001b[39m.\u001b[39mshould_sync:\n\u001b[0;32m   1949\u001b[0m         context\u001b[39m.\u001b[39masync_wait()\n",
            "File \u001b[1;32m~\\AppData\\Roaming\\Python\\Python310\\site-packages\\tensorflow\\python\\util\\traceback_utils.py:150\u001b[0m, in \u001b[0;36mfilter_traceback.<locals>.error_handler\u001b[1;34m(*args, **kwargs)\u001b[0m\n\u001b[0;32m    148\u001b[0m filtered_tb \u001b[39m=\u001b[39m \u001b[39mNone\u001b[39;00m\n\u001b[0;32m    149\u001b[0m \u001b[39mtry\u001b[39;00m:\n\u001b[1;32m--> 150\u001b[0m   \u001b[39mreturn\u001b[39;00m fn(\u001b[39m*\u001b[39margs, \u001b[39m*\u001b[39m\u001b[39m*\u001b[39mkwargs)\n\u001b[0;32m    151\u001b[0m \u001b[39mexcept\u001b[39;00m \u001b[39mException\u001b[39;00m \u001b[39mas\u001b[39;00m e:\n\u001b[0;32m    152\u001b[0m   filtered_tb \u001b[39m=\u001b[39m _process_traceback_frames(e\u001b[39m.\u001b[39m__traceback__)\n",
            "File \u001b[1;32m~\\AppData\\Roaming\\Python\\Python310\\site-packages\\tensorflow\\python\\eager\\def_function.py:915\u001b[0m, in \u001b[0;36mFunction.__call__\u001b[1;34m(self, *args, **kwds)\u001b[0m\n\u001b[0;32m    912\u001b[0m compiler \u001b[39m=\u001b[39m \u001b[39m\"\u001b[39m\u001b[39mxla\u001b[39m\u001b[39m\"\u001b[39m \u001b[39mif\u001b[39;00m \u001b[39mself\u001b[39m\u001b[39m.\u001b[39m_jit_compile \u001b[39melse\u001b[39;00m \u001b[39m\"\u001b[39m\u001b[39mnonXla\u001b[39m\u001b[39m\"\u001b[39m\n\u001b[0;32m    914\u001b[0m \u001b[39mwith\u001b[39;00m OptionalXlaContext(\u001b[39mself\u001b[39m\u001b[39m.\u001b[39m_jit_compile):\n\u001b[1;32m--> 915\u001b[0m   result \u001b[39m=\u001b[39m \u001b[39mself\u001b[39m\u001b[39m.\u001b[39m_call(\u001b[39m*\u001b[39margs, \u001b[39m*\u001b[39m\u001b[39m*\u001b[39mkwds)\n\u001b[0;32m    917\u001b[0m new_tracing_count \u001b[39m=\u001b[39m \u001b[39mself\u001b[39m\u001b[39m.\u001b[39mexperimental_get_tracing_count()\n\u001b[0;32m    918\u001b[0m without_tracing \u001b[39m=\u001b[39m (tracing_count \u001b[39m==\u001b[39m new_tracing_count)\n",
            "File \u001b[1;32m~\\AppData\\Roaming\\Python\\Python310\\site-packages\\tensorflow\\python\\eager\\def_function.py:954\u001b[0m, in \u001b[0;36mFunction._call\u001b[1;34m(self, *args, **kwds)\u001b[0m\n\u001b[0;32m    951\u001b[0m \u001b[39mself\u001b[39m\u001b[39m.\u001b[39m_lock\u001b[39m.\u001b[39mrelease()\n\u001b[0;32m    952\u001b[0m \u001b[39m# In this case we have not created variables on the first call. So we can\u001b[39;00m\n\u001b[0;32m    953\u001b[0m \u001b[39m# run the first trace but we should fail if variables are created.\u001b[39;00m\n\u001b[1;32m--> 954\u001b[0m results \u001b[39m=\u001b[39m \u001b[39mself\u001b[39m\u001b[39m.\u001b[39m_stateful_fn(\u001b[39m*\u001b[39margs, \u001b[39m*\u001b[39m\u001b[39m*\u001b[39mkwds)\n\u001b[0;32m    955\u001b[0m \u001b[39mif\u001b[39;00m \u001b[39mself\u001b[39m\u001b[39m.\u001b[39m_created_variables \u001b[39mand\u001b[39;00m \u001b[39mnot\u001b[39;00m ALLOW_DYNAMIC_VARIABLE_CREATION:\n\u001b[0;32m    956\u001b[0m   \u001b[39mraise\u001b[39;00m \u001b[39mValueError\u001b[39;00m(\u001b[39m\"\u001b[39m\u001b[39mCreating variables on a non-first call to a function\u001b[39m\u001b[39m\"\u001b[39m\n\u001b[0;32m    957\u001b[0m                    \u001b[39m\"\u001b[39m\u001b[39m decorated with tf.function.\u001b[39m\u001b[39m\"\u001b[39m)\n",
            "File \u001b[1;32m~\\AppData\\Roaming\\Python\\Python310\\site-packages\\tensorflow\\python\\eager\\function.py:2496\u001b[0m, in \u001b[0;36mFunction.__call__\u001b[1;34m(self, *args, **kwargs)\u001b[0m\n\u001b[0;32m   2493\u001b[0m \u001b[39mwith\u001b[39;00m \u001b[39mself\u001b[39m\u001b[39m.\u001b[39m_lock:\n\u001b[0;32m   2494\u001b[0m   (graph_function,\n\u001b[0;32m   2495\u001b[0m    filtered_flat_args) \u001b[39m=\u001b[39m \u001b[39mself\u001b[39m\u001b[39m.\u001b[39m_maybe_define_function(args, kwargs)\n\u001b[1;32m-> 2496\u001b[0m \u001b[39mreturn\u001b[39;00m graph_function\u001b[39m.\u001b[39;49m_call_flat(\n\u001b[0;32m   2497\u001b[0m     filtered_flat_args, captured_inputs\u001b[39m=\u001b[39;49mgraph_function\u001b[39m.\u001b[39;49mcaptured_inputs)\n",
            "File \u001b[1;32m~\\AppData\\Roaming\\Python\\Python310\\site-packages\\tensorflow\\python\\eager\\function.py:1862\u001b[0m, in \u001b[0;36mConcreteFunction._call_flat\u001b[1;34m(self, args, captured_inputs, cancellation_manager)\u001b[0m\n\u001b[0;32m   1858\u001b[0m possible_gradient_type \u001b[39m=\u001b[39m gradients_util\u001b[39m.\u001b[39mPossibleTapeGradientTypes(args)\n\u001b[0;32m   1859\u001b[0m \u001b[39mif\u001b[39;00m (possible_gradient_type \u001b[39m==\u001b[39m gradients_util\u001b[39m.\u001b[39mPOSSIBLE_GRADIENT_TYPES_NONE\n\u001b[0;32m   1860\u001b[0m     \u001b[39mand\u001b[39;00m executing_eagerly):\n\u001b[0;32m   1861\u001b[0m   \u001b[39m# No tape is watching; skip to running the function.\u001b[39;00m\n\u001b[1;32m-> 1862\u001b[0m   \u001b[39mreturn\u001b[39;00m \u001b[39mself\u001b[39m\u001b[39m.\u001b[39m_build_call_outputs(\u001b[39mself\u001b[39;49m\u001b[39m.\u001b[39;49m_inference_function\u001b[39m.\u001b[39;49mcall(\n\u001b[0;32m   1863\u001b[0m       ctx, args, cancellation_manager\u001b[39m=\u001b[39;49mcancellation_manager))\n\u001b[0;32m   1864\u001b[0m forward_backward \u001b[39m=\u001b[39m \u001b[39mself\u001b[39m\u001b[39m.\u001b[39m_select_forward_and_backward_functions(\n\u001b[0;32m   1865\u001b[0m     args,\n\u001b[0;32m   1866\u001b[0m     possible_gradient_type,\n\u001b[0;32m   1867\u001b[0m     executing_eagerly)\n\u001b[0;32m   1868\u001b[0m forward_function, args_with_tangents \u001b[39m=\u001b[39m forward_backward\u001b[39m.\u001b[39mforward()\n",
            "File \u001b[1;32m~\\AppData\\Roaming\\Python\\Python310\\site-packages\\tensorflow\\python\\eager\\function.py:499\u001b[0m, in \u001b[0;36m_EagerDefinedFunction.call\u001b[1;34m(self, ctx, args, cancellation_manager)\u001b[0m\n\u001b[0;32m    497\u001b[0m \u001b[39mwith\u001b[39;00m _InterpolateFunctionError(\u001b[39mself\u001b[39m):\n\u001b[0;32m    498\u001b[0m   \u001b[39mif\u001b[39;00m cancellation_manager \u001b[39mis\u001b[39;00m \u001b[39mNone\u001b[39;00m:\n\u001b[1;32m--> 499\u001b[0m     outputs \u001b[39m=\u001b[39m execute\u001b[39m.\u001b[39;49mexecute(\n\u001b[0;32m    500\u001b[0m         \u001b[39mstr\u001b[39;49m(\u001b[39mself\u001b[39;49m\u001b[39m.\u001b[39;49msignature\u001b[39m.\u001b[39;49mname),\n\u001b[0;32m    501\u001b[0m         num_outputs\u001b[39m=\u001b[39;49m\u001b[39mself\u001b[39;49m\u001b[39m.\u001b[39;49m_num_outputs,\n\u001b[0;32m    502\u001b[0m         inputs\u001b[39m=\u001b[39;49margs,\n\u001b[0;32m    503\u001b[0m         attrs\u001b[39m=\u001b[39;49mattrs,\n\u001b[0;32m    504\u001b[0m         ctx\u001b[39m=\u001b[39;49mctx)\n\u001b[0;32m    505\u001b[0m   \u001b[39melse\u001b[39;00m:\n\u001b[0;32m    506\u001b[0m     outputs \u001b[39m=\u001b[39m execute\u001b[39m.\u001b[39mexecute_with_cancellation(\n\u001b[0;32m    507\u001b[0m         \u001b[39mstr\u001b[39m(\u001b[39mself\u001b[39m\u001b[39m.\u001b[39msignature\u001b[39m.\u001b[39mname),\n\u001b[0;32m    508\u001b[0m         num_outputs\u001b[39m=\u001b[39m\u001b[39mself\u001b[39m\u001b[39m.\u001b[39m_num_outputs,\n\u001b[1;32m   (...)\u001b[0m\n\u001b[0;32m    511\u001b[0m         ctx\u001b[39m=\u001b[39mctx,\n\u001b[0;32m    512\u001b[0m         cancellation_manager\u001b[39m=\u001b[39mcancellation_manager)\n",
            "File \u001b[1;32m~\\AppData\\Roaming\\Python\\Python310\\site-packages\\tensorflow\\python\\eager\\execute.py:54\u001b[0m, in \u001b[0;36mquick_execute\u001b[1;34m(op_name, num_outputs, inputs, attrs, ctx, name)\u001b[0m\n\u001b[0;32m     52\u001b[0m \u001b[39mtry\u001b[39;00m:\n\u001b[0;32m     53\u001b[0m   ctx\u001b[39m.\u001b[39mensure_initialized()\n\u001b[1;32m---> 54\u001b[0m   tensors \u001b[39m=\u001b[39m pywrap_tfe\u001b[39m.\u001b[39;49mTFE_Py_Execute(ctx\u001b[39m.\u001b[39;49m_handle, device_name, op_name,\n\u001b[0;32m     55\u001b[0m                                       inputs, attrs, num_outputs)\n\u001b[0;32m     56\u001b[0m \u001b[39mexcept\u001b[39;00m core\u001b[39m.\u001b[39m_NotOkStatusException \u001b[39mas\u001b[39;00m e:\n\u001b[0;32m     57\u001b[0m   \u001b[39mif\u001b[39;00m name \u001b[39mis\u001b[39;00m \u001b[39mnot\u001b[39;00m \u001b[39mNone\u001b[39;00m:\n",
            "\u001b[1;31mKeyboardInterrupt\u001b[0m: "
          ]
        }
      ],
      "source": [
        "opt=tf.keras.optimizers.legacy.Adam(learning_rate=0.001, epsilon=1e-7, decay=1e-5)\n",
        "model.compile(optimizer=opt, loss='categorical_crossentropy', metrics=['accuracy'])\n",
        "\n",
        "checkpointer = ModelCheckpoint(filepath=\"mobile_net.h5\",\n",
        "                               verbose=0,\n",
        "                               save_best_only=True)\n",
        "\n",
        "history = model.fit(train_datagen.flow(X_train_resized, y_binary_train, batch_size=32, seed=42), \n",
        "                    validation_data=test_datagen.flow(X_test_resized, y_binary_test, batch_size=32, seed=42),\n",
        "                    callbacks=[checkpointer],\n",
        "                    epochs = 100)"
      ]
    },
    {
      "cell_type": "code",
      "execution_count": null,
      "metadata": {
        "id": "TKYX7LlXhAnE"
      },
      "outputs": [],
      "source": [
        "def plot_learning_curves(history):\n",
        "    plt.plot(history.history[\"accuracy\"],label=\"Train Accuracy\")\n",
        "    plt.plot(history.history[\"val_accuracy\"],label=\"Val Accuracy\")\n",
        "    plt.legend()\n",
        "    plt.show()"
      ]
    },
    {
      "cell_type": "code",
      "execution_count": null,
      "metadata": {
        "colab": {
          "base_uri": "https://localhost:8080/",
          "height": 265
        },
        "id": "GJG-ox66los1",
        "outputId": "34a1b024-a68d-4a7a-fad9-90ff7e0ca5a8"
      },
      "outputs": [
        {
          "data": {
            "image/png": "[encoded data removed]",
            "text/plain": [
              "<Figure size 432x288 with 1 Axes>"
            ]
          },
          "metadata": {
            "needs_background": "light"
          },
          "output_type": "display_data"
        }
      ],
      "source": [
        "plot_learning_curves(history)"
      ]
    },
    {
      "cell_type": "code",
      "execution_count": null,
      "metadata": {
        "colab": {
          "base_uri": "https://localhost:8080/"
        },
        "id": "ASjeNpyflq-K",
        "outputId": "7e62c0d3-b20f-4425-e6d4-85c0f5bc1bc3"
      },
      "outputs": [
        {
          "name": "stdout",
          "output_type": "stream",
          "text": [
            "Results:\n",
            "\n",
            "The best validation accuracy is 86.90%.\n"
          ]
        }
      ],
      "source": [
        "print('Results:\\n')\n",
        "print('The best validation accuracy is %.2f%%.' % (np.max(history.history[\"val_accuracy\"])*100))"
      ]
    },
    {
      "cell_type": "code",
      "execution_count": null,
      "metadata": {
        "colab": {
          "base_uri": "https://localhost:8080/"
        },
        "id": "qtoAzh4nlt_1",
        "outputId": "f13e0b80-cd7d-4df9-94be-f0e774b13cab"
      },
      "outputs": [
        {
          "name": "stdout",
          "output_type": "stream",
          "text": [
            "165/165 [==============================] - 2s 14ms/step - loss: 0.6340 - accuracy: 0.8522\n",
            "Test Loss = 0.6339656114578247\n",
            "Test Accuracy = 0.8521904945373535\n"
          ]
        }
      ],
      "source": [
        "score, acc = model.evaluate(test_datagen.flow(X_test, y_binary_test, batch_size=32, seed=42))\n",
        "print('Test Loss =', score)\n",
        "print('Test Accuracy =', acc)"
      ]
    },
    {
      "cell_type": "code",
      "execution_count": null,
      "metadata": {
        "colab": {
          "base_uri": "https://localhost:8080/"
        },
        "id": "c5lBdaHMC5mh",
        "outputId": "37890eee-5ca9-4130-c6c7-8314e52b1d2d"
      },
      "outputs": [
        {
          "data": {
            "text/plain": [
              "3"
            ]
          },
          "execution_count": 30,
          "metadata": {},
          "output_type": "execute_result"
        }
      ],
      "source": [
        "import numpy as np\n",
        "rounded_labels=np.argmax(y_binary_test, axis=1)\n",
        "rounded_labels[1]"
      ]
    },
    {
      "cell_type": "code",
      "execution_count": null,
      "metadata": {
        "colab": {
          "base_uri": "https://localhost:8080/",
          "height": 314
        },
        "id": "4EEP7OClmIzL",
        "outputId": "74a2bdd2-2f90-40ef-ec9e-15588efabf6e"
      },
      "outputs": [
        {
          "name": "stdout",
          "output_type": "stream",
          "text": [
            "165/165 [==============================] - 2s 12ms/step\n"
          ]
        },
        {
          "data": {
            "text/plain": [
              "Text(33.0, 0.5, 'Actual')"
            ]
          },
          "execution_count": 37,
          "metadata": {},
          "output_type": "execute_result"
        },
        {
          "data": {
            "image/png": "[encoded data removed]",
            "text/plain": [
              "<Figure size 432x288 with 2 Axes>"
            ]
          },
          "metadata": {
            "needs_background": "light"
          },
          "output_type": "display_data"
        }
      ],
      "source": [
        "from sklearn.metrics import confusion_matrix\n",
        "import seaborn as sns\n",
        "X_t=X_test/255\n",
        "X_pred=model.predict(X_t)\n",
        "max=[]\n",
        "for i in X_pred:\n",
        "  l=np.argmax(i)\n",
        "  max.append(l)\n",
        "cm_train=confusion_matrix(Y_test,max)\n",
        "sns.heatmap(cm_train, annot=True,fmt='g', cmap='Blues',xticklabels=['0','1','2','3','4'],yticklabels=['0','1','2','3','4'])\n",
        "plt.xlabel(\"Predicted\")\n",
        "plt.ylabel(\"Actual\")"
      ]
    },
    {
      "cell_type": "code",
      "execution_count": null,
      "metadata": {
        "colab": {
          "base_uri": "https://localhost:8080/",
          "height": 318
        },
        "id": "UxGB8ppcUuRs",
        "outputId": "bbcf24e5-1a78-4443-c25b-302dab9ffc5a"
      },
      "outputs": [
        {
          "name": "stdout",
          "output_type": "stream",
          "text": [
            "383/383 [==============================] - 4s 12ms/step\n"
          ]
        },
        {
          "data": {
            "text/plain": [
              "Text(33.0, 0.5, 'Actual')"
            ]
          },
          "execution_count": 42,
          "metadata": {},
          "output_type": "execute_result"
        },
        {
          "data": {
            "image/png": "[encoded data removed]",
            "text/plain": [
              "<Figure size 432x288 with 2 Axes>"
            ]
          },
          "metadata": {
            "needs_background": "light"
          },
          "output_type": "display_data"
        }
      ],
      "source": [
        "from sklearn.metrics import confusion_matrix\n",
        "import seaborn as sns\n",
        "X_tr=X_train/255\n",
        "X_pred=model.predict(X_tr)\n",
        "max=[]\n",
        "for i in X_pred:\n",
        "  l=np.argmax(i)\n",
        "  max.append(l)\n",
        "cm_train=confusion_matrix(Y_train,max)\n",
        "sns.heatmap(cm_train, annot=True,fmt='g', cmap='Blues',xticklabels=['0','1','2','3','4'],yticklabels=['0','1','2','3','4'])\n",
        "plt.xlabel(\"Predicted\")\n",
        "plt.ylabel(\"Actual\")"
      ]
    },
    {
      "cell_type": "code",
      "execution_count": null,
      "metadata": {},
      "outputs": [],
      "source": []
    }
  ],
  "metadata": {
    "accelerator": "GPU",
    "colab": {
      "provenance": []
    },
    "gpuClass": "standard",
    "kernelspec": {
      "display_name": "env",
      "language": "python",
      "name": "python3"
    },
    "language_info": {
      "codemirror_mode": {
        "name": "ipython",
        "version": 3
      },
      "file_extension": ".py",
      "mimetype": "text/x-python",
      "name": "python",
      "nbconvert_exporter": "python",
      "pygments_lexer": "ipython3",
      "version": "3.10.0"
    },
    "vscode": {
      "interpreter": {
        "hash": "8c531f64f57671b02d8b41421714f6f94d9219e45619b26cbbb27a7da8f46954"
      }
    }
  },
  "nbformat": 4,
  "nbformat_minor": 0
}
