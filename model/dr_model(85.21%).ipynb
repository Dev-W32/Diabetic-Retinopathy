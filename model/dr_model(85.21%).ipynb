{
  "cells": [
    {
      "cell_type": "code",
      "execution_count": 1,
      "metadata": {
        "id": "TkwgT_FLfFxb"
      },
      "outputs": [],
      "source": [
        "import numpy as np\n",
        "import cv2\n",
        "import matplotlib.pyplot as plt\n",
        "import pandas as pd\n",
        "import os\n",
        "import tensorflow as tf\n",
        "import tensorflow.keras.backend as K\n",
        "from tensorflow.keras.preprocessing.image import ImageDataGenerator\n",
        "from tensorflow.keras.datasets import fashion_mnist\n",
        "from tensorflow.keras.applications.mobilenet import MobileNet\n",
        "from tensorflow.keras.layers import Input,Reshape,Dense,Lambda,GlobalAveragePooling2D\n",
        "from tensorflow.keras.models import load_model,Model\n",
        "from tensorflow.keras.callbacks import ModelCheckpoint\n",
        "from tensorflow.keras.utils import plot_model"
      ]
    },
    {
      "cell_type": "code",
      "execution_count": null,
      "metadata": {
        "id": "e3jnqDsGDYGZ"
      },
      "outputs": [],
      "source": []
    },
    {
      "cell_type": "code",
      "execution_count": 1,
      "metadata": {
        "id": "85yGeN3CfhvJ"
      },
      "outputs": [],
      "source": [
        "dir0=\"E:/RCOEM/Sem 6/Project/diabetic-retino/diabetic-retinopathy2/diabetic-retinopathy/model/content/0_0\"\n",
        "dir1=\"E:/RCOEM/Sem 6/Project/diabetic-retino/diabetic-retinopathy2/diabetic-retinopathy/model/content/0_1\"\n",
        "dir2=\"E:/RCOEM/Sem 6/Project/diabetic-retino/diabetic-retinopathy2/diabetic-retinopathy/model/content/0_2\"\n",
        "dir3=\"E:/RCOEM/Sem 6/Project/diabetic-retino/diabetic-retinopathy2/diabetic-retinopathy/model/content/0_3\"\n",
        "dir4=\"E:/RCOEM/Sem 6/Project/diabetic-retino/diabetic-retinopathy2/diabetic-retinopathy/model/content/0_4\""
      ]
    },
    {
      "cell_type": "code",
      "execution_count": null,
      "metadata": {
        "id": "CbnQCbGnf0Nb"
      },
      "outputs": [],
      "source": [
        "imgs=[]\n",
        "label=[]"
      ]
    },
    {
      "cell_type": "code",
      "execution_count": null,
      "metadata": {
        "id": "t2XWPy7pf3qj"
      },
      "outputs": [],
      "source": [
        "import os\n",
        "for i in os.listdir(dir0)[:3500]:\n",
        "  img=plt.imread(dir0+\"/\"+i)\n",
        "  img = cv2.cvtColor(img, cv2.COLOR_BGR2GRAY)\n",
        "  #img = crop_image_from_gray(img)\n",
        "  img = cv2.resize(img, (28,28))\n",
        "  image=cv2.addWeighted ( img,4, cv2.GaussianBlur( img , (0,0) , 2.8) ,-4 ,128) \n",
        "  imgs.append(np.array(img))\n",
        "  label.append(0)\n",
        "\n"
      ]
    },
    {
      "cell_type": "code",
      "execution_count": null,
      "metadata": {
        "id": "NVPFrcINgJW8"
      },
      "outputs": [],
      "source": [
        "for i in os.listdir(dir1)[:3500]:\n",
        "  img=plt.imread(dir1+\"/\"+i)\n",
        "  img = cv2.cvtColor(img, cv2.COLOR_BGR2GRAY)\n",
        "  #img = crop_image_from_gray(img)\n",
        "  img = cv2.resize(img, (28,28))\n",
        "  img =cv2.addWeighted ( img,4, cv2.GaussianBlur( img , (0,0) , 2.8) ,-4 ,128)      \n",
        "  imgs.append(np.array(img))\n",
        "  label.append(1)\n",
        "    \n",
        "for i in os.listdir(dir2)[:3500]:\n",
        "  img=plt.imread(dir2+\"/\"+i)\n",
        "  img = cv2.cvtColor(img, cv2.COLOR_BGR2GRAY)\n",
        "  #img = crop_image_from_gray(img)\n",
        "  img = cv2.resize(img, (28,28))\n",
        "  img =cv2.addWeighted ( img,4, cv2.GaussianBlur( img , (0,0) , 2.8) ,-4 ,128)      \n",
        "  imgs.append(np.array(img))\n",
        "  label.append(2)"
      ]
    },
    {
      "cell_type": "code",
      "execution_count": null,
      "metadata": {
        "id": "oyxH8iS0gOgf"
      },
      "outputs": [],
      "source": [
        "for i in os.listdir(dir3)[:3500]:\n",
        "      img=plt.imread(dir3+\"/\"+i)\n",
        "      img = cv2.cvtColor(img, cv2.COLOR_BGR2GRAY)\n",
        "      #img = crop_image_from_gray(img)\n",
        "      img = cv2.resize(img, (50,50))\n",
        "      img =cv2.addWeighted ( img,4, cv2.GaussianBlur( img , (0,0) , 2.8) ,-4 ,128)      \n",
        "      imgs.append(np.array(img))\n",
        "      label.append(3)"
      ]
    },
    {
      "cell_type": "code",
      "execution_count": null,
      "metadata": {
        "id": "iXUMM0USgYnu"
      },
      "outputs": [],
      "source": [
        "for i in os.listdir(dir4)[:3500]:\n",
        "      img=plt.imread(dir4+\"/\"+i)\n",
        "      img = cv2.cvtColor(img, cv2.COLOR_BGR2GRAY)\n",
        "      #img = crop_image_from_gray(img)\n",
        "      img = cv2.resize(img, (28,28))\n",
        "      img =cv2.addWeighted ( img,4, cv2.GaussianBlur( img , (0,0) , 2.8) ,-4 ,128)      \n",
        "      imgs.append(np.array(img))\n",
        "      label.append(4)"
      ]
    },
    {
      "cell_type": "code",
      "execution_count": null,
      "metadata": {
        "id": "4asNwGcbgd7_"
      },
      "outputs": [],
      "source": [
        "imgs = np.asarray(imgs)\n",
        "label = np.asarray(label)"
      ]
    },
    {
      "cell_type": "code",
      "execution_count": null,
      "metadata": {
        "colab": {
          "base_uri": "https://localhost:8080/"
        },
        "id": "h8zZT2Wwggu3",
        "outputId": "65751149-0f75-4129-9edf-41d185b84a3b"
      },
      "outputs": [
        {
          "name": "stdout",
          "output_type": "stream",
          "text": [
            "(12250, 28, 28)\n",
            "(12250,)\n",
            "(5250, 28, 28)\n",
            "(5250,)\n"
          ]
        }
      ],
      "source": [
        "from sklearn.model_selection import train_test_split\n",
        "X_train, X_test, Y_train, Y_test = train_test_split(imgs,label,test_size=0.3,shuffle=True)\n",
        "print(X_train.shape)\n",
        "print(Y_train.shape)\n",
        "print(X_test.shape)\n",
        "print(Y_test.shape)"
      ]
    },
    {
      "cell_type": "code",
      "execution_count": null,
      "metadata": {
        "id": "6Xo5KxJsgkA7"
      },
      "outputs": [],
      "source": [
        "height,width = 128,128\n",
        "\n",
        "# Resize the image size to (128, 128)\n",
        "X_train = X_train.reshape((-1, 28, 28))\n",
        "X_train = np.array([cv2.resize(x, dsize=(height, width)).astype(float) for x in X_train])\n",
        "X_train = X_train.reshape((X_train.shape[0], height, width, 1))\n",
        "\n",
        "X_test = X_test.reshape((-1,28,28))\n",
        "X_test = np.array([cv2.resize(x, dsize=(height, width)).astype(float) for x in X_test])\n",
        "X_test = X_test.reshape((X_test.shape[0], height, width, 1))\n"
      ]
    },
    {
      "cell_type": "code",
      "execution_count": null,
      "metadata": {
        "id": "vKdnyJp4gnlh"
      },
      "outputs": [],
      "source": [
        "y_binary_train = tf.one_hot(Y_train,5)\n",
        "y_binary_test = tf.one_hot(Y_test,5)"
      ]
    },
    {
      "cell_type": "code",
      "execution_count": null,
      "metadata": {
        "colab": {
          "base_uri": "https://localhost:8080/"
        },
        "id": "Q26EZ0dLgrJM",
        "outputId": "2c5e064f-fee9-45af-bec0-667cf91e6288"
      },
      "outputs": [
        {
          "name": "stdout",
          "output_type": "stream",
          "text": [
            "(12250, 128, 128, 1)\n",
            "(12250, 5)\n",
            "(5250, 128, 128, 1)\n",
            "(5250, 5)\n"
          ]
        }
      ],
      "source": [
        "print(X_train.shape)\n",
        "print(y_binary_train.shape)\n",
        "print(X_test.shape)\n",
        "print(y_binary_test.shape)"
      ]
    },
    {
      "cell_type": "code",
      "execution_count": null,
      "metadata": {
        "id": "X-Fwqcyqgtay"
      },
      "outputs": [],
      "source": [
        "# Define Image Data Generator for training set\n",
        "train_datagen = ImageDataGenerator(rescale=1./255,\n",
        "                                   rotation_range=5,\n",
        "                                   shear_range=0.1,\n",
        "                                   zoom_range=0.2, \n",
        "                                   horizontal_flip=True)\n",
        "\n",
        "# Define Image Generator for test set\n",
        "test_datagen = ImageDataGenerator(rescale=1./255)"
      ]
    },
    {
      "cell_type": "code",
      "execution_count": null,
      "metadata": {
        "id": "MsCK4bZwgzEL"
      },
      "outputs": [],
      "source": [
        "def mobile_net(height, width):\n",
        "  \n",
        "  # Define Input layer\n",
        "  input = Input(shape=(height, width, 1))\n",
        "  \n",
        "  # Add a Reshape layer\n",
        "  input_image = Reshape((height, width), input_shape=(height, width, 1))(input)\n",
        "  \n",
        "  # Add Lambda layer to expand the image to 3 channels\n",
        "  input_image = Lambda(lambda x: K.repeat_elements(K.expand_dims(x,3),3,3))(input_image)\n",
        "  \n",
        "  # Create MobileNets base model with pre-trained weights\n",
        "  base_model = MobileNet(input_shape=(height, width, 3),\n",
        "                         input_tensor=input_image, \n",
        "                         weights='imagenet', \n",
        "                         include_top=False)\n",
        "\n",
        "  # Add a global average pooling layer\n",
        "  x = GlobalAveragePooling2D()(base_model.output)\n",
        "  \n",
        "  # Add output layer\n",
        "  output = Dense(5, activation='softmax')(x)\n",
        "\n",
        "  model = Model(inputs=input, outputs=output)\n",
        "  return model\n"
      ]
    },
    {
      "cell_type": "code",
      "execution_count": null,
      "metadata": {
        "colab": {
          "base_uri": "https://localhost:8080/"
        },
        "id": "WjxUsSI2g3JL",
        "outputId": "5c167235-b5b0-4fd5-9b95-9e14b83b809a"
      },
      "outputs": [
        {
          "name": "stdout",
          "output_type": "stream",
          "text": [
            "Model: \"model\"\n",
            "_________________________________________________________________\n",
            " Layer (type)                Output Shape              Param #   \n",
            "=================================================================\n",
            " input_1 (InputLayer)        [(None, 128, 128, 1)]     0         \n",
            "                                                                 \n",
            " reshape (Reshape)           (None, 128, 128)          0         \n",
            "                                                                 \n",
            " lambda (Lambda)             (None, 128, 128, 3)       0         \n",
            "                                                                 \n",
            " conv1 (Conv2D)              (None, 64, 64, 32)        864       \n",
            "                                                                 \n",
            " conv1_bn (BatchNormalizatio  (None, 64, 64, 32)       128       \n",
            " n)                                                              \n",
            "                                                                 \n",
            " conv1_relu (ReLU)           (None, 64, 64, 32)        0         \n",
            "                                                                 \n",
            " conv_dw_1 (DepthwiseConv2D)  (None, 64, 64, 32)       288       \n",
            "                                                                 \n",
            " conv_dw_1_bn (BatchNormaliz  (None, 64, 64, 32)       128       \n",
            " ation)                                                          \n",
            "                                                                 \n",
            " conv_dw_1_relu (ReLU)       (None, 64, 64, 32)        0         \n",
            "                                                                 \n",
            " conv_pw_1 (Conv2D)          (None, 64, 64, 64)        2048      \n",
            "                                                                 \n",
            " conv_pw_1_bn (BatchNormaliz  (None, 64, 64, 64)       256       \n",
            " ation)                                                          \n",
            "                                                                 \n",
            " conv_pw_1_relu (ReLU)       (None, 64, 64, 64)        0         \n",
            "                                                                 \n",
            " conv_pad_2 (ZeroPadding2D)  (None, 65, 65, 64)        0         \n",
            "                                                                 \n",
            " conv_dw_2 (DepthwiseConv2D)  (None, 32, 32, 64)       576       \n",
            "                                                                 \n",
            " conv_dw_2_bn (BatchNormaliz  (None, 32, 32, 64)       256       \n",
            " ation)                                                          \n",
            "                                                                 \n",
            " conv_dw_2_relu (ReLU)       (None, 32, 32, 64)        0         \n",
            "                                                                 \n",
            " conv_pw_2 (Conv2D)          (None, 32, 32, 128)       8192      \n",
            "                                                                 \n",
            " conv_pw_2_bn (BatchNormaliz  (None, 32, 32, 128)      512       \n",
            " ation)                                                          \n",
            "                                                                 \n",
            " conv_pw_2_relu (ReLU)       (None, 32, 32, 128)       0         \n",
            "                                                                 \n",
            " conv_dw_3 (DepthwiseConv2D)  (None, 32, 32, 128)      1152      \n",
            "                                                                 \n",
            " conv_dw_3_bn (BatchNormaliz  (None, 32, 32, 128)      512       \n",
            " ation)                                                          \n",
            "                                                                 \n",
            " conv_dw_3_relu (ReLU)       (None, 32, 32, 128)       0         \n",
            "                                                                 \n",
            " conv_pw_3 (Conv2D)          (None, 32, 32, 128)       16384     \n",
            "                                                                 \n",
            " conv_pw_3_bn (BatchNormaliz  (None, 32, 32, 128)      512       \n",
            " ation)                                                          \n",
            "                                                                 \n",
            " conv_pw_3_relu (ReLU)       (None, 32, 32, 128)       0         \n",
            "                                                                 \n",
            " conv_pad_4 (ZeroPadding2D)  (None, 33, 33, 128)       0         \n",
            "                                                                 \n",
            " conv_dw_4 (DepthwiseConv2D)  (None, 16, 16, 128)      1152      \n",
            "                                                                 \n",
            " conv_dw_4_bn (BatchNormaliz  (None, 16, 16, 128)      512       \n",
            " ation)                                                          \n",
            "                                                                 \n",
            " conv_dw_4_relu (ReLU)       (None, 16, 16, 128)       0         \n",
            "                                                                 \n",
            " conv_pw_4 (Conv2D)          (None, 16, 16, 256)       32768     \n",
            "                                                                 \n",
            " conv_pw_4_bn (BatchNormaliz  (None, 16, 16, 256)      1024      \n",
            " ation)                                                          \n",
            "                                                                 \n",
            " conv_pw_4_relu (ReLU)       (None, 16, 16, 256)       0         \n",
            "                                                                 \n",
            " conv_dw_5 (DepthwiseConv2D)  (None, 16, 16, 256)      2304      \n",
            "                                                                 \n",
            " conv_dw_5_bn (BatchNormaliz  (None, 16, 16, 256)      1024      \n",
            " ation)                                                          \n",
            "                                                                 \n",
            " conv_dw_5_relu (ReLU)       (None, 16, 16, 256)       0         \n",
            "                                                                 \n",
            " conv_pw_5 (Conv2D)          (None, 16, 16, 256)       65536     \n",
            "                                                                 \n",
            " conv_pw_5_bn (BatchNormaliz  (None, 16, 16, 256)      1024      \n",
            " ation)                                                          \n",
            "                                                                 \n",
            " conv_pw_5_relu (ReLU)       (None, 16, 16, 256)       0         \n",
            "                                                                 \n",
            " conv_pad_6 (ZeroPadding2D)  (None, 17, 17, 256)       0         \n",
            "                                                                 \n",
            " conv_dw_6 (DepthwiseConv2D)  (None, 8, 8, 256)        2304      \n",
            "                                                                 \n",
            " conv_dw_6_bn (BatchNormaliz  (None, 8, 8, 256)        1024      \n",
            " ation)                                                          \n",
            "                                                                 \n",
            " conv_dw_6_relu (ReLU)       (None, 8, 8, 256)         0         \n",
            "                                                                 \n",
            " conv_pw_6 (Conv2D)          (None, 8, 8, 512)         131072    \n",
            "                                                                 \n",
            " conv_pw_6_bn (BatchNormaliz  (None, 8, 8, 512)        2048      \n",
            " ation)                                                          \n",
            "                                                                 \n",
            " conv_pw_6_relu (ReLU)       (None, 8, 8, 512)         0         \n",
            "                                                                 \n",
            " conv_dw_7 (DepthwiseConv2D)  (None, 8, 8, 512)        4608      \n",
            "                                                                 \n",
            " conv_dw_7_bn (BatchNormaliz  (None, 8, 8, 512)        2048      \n",
            " ation)                                                          \n",
            "                                                                 \n",
            " conv_dw_7_relu (ReLU)       (None, 8, 8, 512)         0         \n",
            "                                                                 \n",
            " conv_pw_7 (Conv2D)          (None, 8, 8, 512)         262144    \n",
            "                                                                 \n",
            " conv_pw_7_bn (BatchNormaliz  (None, 8, 8, 512)        2048      \n",
            " ation)                                                          \n",
            "                                                                 \n",
            " conv_pw_7_relu (ReLU)       (None, 8, 8, 512)         0         \n",
            "                                                                 \n",
            " conv_dw_8 (DepthwiseConv2D)  (None, 8, 8, 512)        4608      \n",
            "                                                                 \n",
            " conv_dw_8_bn (BatchNormaliz  (None, 8, 8, 512)        2048      \n",
            " ation)                                                          \n",
            "                                                                 \n",
            " conv_dw_8_relu (ReLU)       (None, 8, 8, 512)         0         \n",
            "                                                                 \n",
            " conv_pw_8 (Conv2D)          (None, 8, 8, 512)         262144    \n",
            "                                                                 \n",
            " conv_pw_8_bn (BatchNormaliz  (None, 8, 8, 512)        2048      \n",
            " ation)                                                          \n",
            "                                                                 \n",
            " conv_pw_8_relu (ReLU)       (None, 8, 8, 512)         0         \n",
            "                                                                 \n",
            " conv_dw_9 (DepthwiseConv2D)  (None, 8, 8, 512)        4608      \n",
            "                                                                 \n",
            " conv_dw_9_bn (BatchNormaliz  (None, 8, 8, 512)        2048      \n",
            " ation)                                                          \n",
            "                                                                 \n",
            " conv_dw_9_relu (ReLU)       (None, 8, 8, 512)         0         \n",
            "                                                                 \n",
            " conv_pw_9 (Conv2D)          (None, 8, 8, 512)         262144    \n",
            "                                                                 \n",
            " conv_pw_9_bn (BatchNormaliz  (None, 8, 8, 512)        2048      \n",
            " ation)                                                          \n",
            "                                                                 \n",
            " conv_pw_9_relu (ReLU)       (None, 8, 8, 512)         0         \n",
            "                                                                 \n",
            " conv_dw_10 (DepthwiseConv2D  (None, 8, 8, 512)        4608      \n",
            " )                                                               \n",
            "                                                                 \n",
            " conv_dw_10_bn (BatchNormali  (None, 8, 8, 512)        2048      \n",
            " zation)                                                         \n",
            "                                                                 \n",
            " conv_dw_10_relu (ReLU)      (None, 8, 8, 512)         0         \n",
            "                                                                 \n",
            " conv_pw_10 (Conv2D)         (None, 8, 8, 512)         262144    \n",
            "                                                                 \n",
            " conv_pw_10_bn (BatchNormali  (None, 8, 8, 512)        2048      \n",
            " zation)                                                         \n",
            "                                                                 \n",
            " conv_pw_10_relu (ReLU)      (None, 8, 8, 512)         0         \n",
            "                                                                 \n",
            " conv_dw_11 (DepthwiseConv2D  (None, 8, 8, 512)        4608      \n",
            " )                                                               \n",
            "                                                                 \n",
            " conv_dw_11_bn (BatchNormali  (None, 8, 8, 512)        2048      \n",
            " zation)                                                         \n",
            "                                                                 \n",
            " conv_dw_11_relu (ReLU)      (None, 8, 8, 512)         0         \n",
            "                                                                 \n",
            " conv_pw_11 (Conv2D)         (None, 8, 8, 512)         262144    \n",
            "                                                                 \n",
            " conv_pw_11_bn (BatchNormali  (None, 8, 8, 512)        2048      \n",
            " zation)                                                         \n",
            "                                                                 \n",
            " conv_pw_11_relu (ReLU)      (None, 8, 8, 512)         0         \n",
            "                                                                 \n",
            " conv_pad_12 (ZeroPadding2D)  (None, 9, 9, 512)        0         \n",
            "                                                                 \n",
            " conv_dw_12 (DepthwiseConv2D  (None, 4, 4, 512)        4608      \n",
            " )                                                               \n",
            "                                                                 \n",
            " conv_dw_12_bn (BatchNormali  (None, 4, 4, 512)        2048      \n",
            " zation)                                                         \n",
            "                                                                 \n",
            " conv_dw_12_relu (ReLU)      (None, 4, 4, 512)         0         \n",
            "                                                                 \n",
            " conv_pw_12 (Conv2D)         (None, 4, 4, 1024)        524288    \n",
            "                                                                 \n",
            " conv_pw_12_bn (BatchNormali  (None, 4, 4, 1024)       4096      \n",
            " zation)                                                         \n",
            "                                                                 \n",
            " conv_pw_12_relu (ReLU)      (None, 4, 4, 1024)        0         \n",
            "                                                                 \n",
            " conv_dw_13 (DepthwiseConv2D  (None, 4, 4, 1024)       9216      \n",
            " )                                                               \n",
            "                                                                 \n",
            " conv_dw_13_bn (BatchNormali  (None, 4, 4, 1024)       4096      \n",
            " zation)                                                         \n",
            "                                                                 \n",
            " conv_dw_13_relu (ReLU)      (None, 4, 4, 1024)        0         \n",
            "                                                                 \n",
            " conv_pw_13 (Conv2D)         (None, 4, 4, 1024)        1048576   \n",
            "                                                                 \n",
            " conv_pw_13_bn (BatchNormali  (None, 4, 4, 1024)       4096      \n",
            " zation)                                                         \n",
            "                                                                 \n",
            " conv_pw_13_relu (ReLU)      (None, 4, 4, 1024)        0         \n",
            "                                                                 \n",
            " global_average_pooling2d (G  (None, 1024)             0         \n",
            " lobalAveragePooling2D)                                          \n",
            "                                                                 \n",
            " dense (Dense)               (None, 5)                 5125      \n",
            "                                                                 \n",
            "=================================================================\n",
            "Total params: 3,233,989\n",
            "Trainable params: 3,212,101\n",
            "Non-trainable params: 21,888\n",
            "_________________________________________________________________\n"
          ]
        }
      ],
      "source": [
        "# Instantiate a model\n",
        "model = mobile_net(height, width)\n",
        "# Show model summary\n",
        "model.summary()\n",
        "#plot_model(model, to_file='mobile_net.png', show_shapes=True)"
      ]
    },
    {
      "cell_type": "code",
      "execution_count": null,
      "metadata": {
        "colab": {
          "base_uri": "https://localhost:8080/"
        },
        "id": "uaDJuAkUg8l5",
        "outputId": "a482ae34-9bce-4388-c812-e81693256494"
      },
      "outputs": [
        {
          "name": "stdout",
          "output_type": "stream",
          "text": [
            "Epoch 1/100\n",
            "383/383 [==============================] - 34s 75ms/step - loss: 1.1077 - accuracy: 0.5147 - val_loss: 0.9729 - val_accuracy: 0.5722\n",
            "Epoch 2/100\n",
            "383/383 [==============================] - 27s 71ms/step - loss: 0.9471 - accuracy: 0.5793 - val_loss: 0.9745 - val_accuracy: 0.5886\n",
            "Epoch 3/100\n",
            "383/383 [==============================] - 27s 71ms/step - loss: 0.9115 - accuracy: 0.5974 - val_loss: 1.1508 - val_accuracy: 0.5293\n",
            "Epoch 4/100\n",
            "383/383 [==============================] - 28s 72ms/step - loss: 0.8795 - accuracy: 0.6194 - val_loss: 0.9305 - val_accuracy: 0.5954\n",
            "Epoch 5/100\n",
            "383/383 [==============================] - 27s 71ms/step - loss: 0.8344 - accuracy: 0.6416 - val_loss: 0.9508 - val_accuracy: 0.5907\n",
            "Epoch 6/100\n",
            "383/383 [==============================] - 27s 71ms/step - loss: 0.7921 - accuracy: 0.6646 - val_loss: 0.8270 - val_accuracy: 0.6450\n",
            "Epoch 7/100\n",
            "383/383 [==============================] - 27s 70ms/step - loss: 0.7509 - accuracy: 0.6883 - val_loss: 0.8522 - val_accuracy: 0.6499\n",
            "Epoch 8/100\n",
            "383/383 [==============================] - 27s 71ms/step - loss: 0.6956 - accuracy: 0.7088 - val_loss: 0.8285 - val_accuracy: 0.6613\n",
            "Epoch 9/100\n",
            "383/383 [==============================] - 27s 71ms/step - loss: 0.6671 - accuracy: 0.7265 - val_loss: 0.7302 - val_accuracy: 0.6903\n",
            "Epoch 10/100\n",
            "383/383 [==============================] - 27s 71ms/step - loss: 0.6112 - accuracy: 0.7513 - val_loss: 1.1901 - val_accuracy: 0.5842\n",
            "Epoch 11/100\n",
            "383/383 [==============================] - 27s 71ms/step - loss: 0.5571 - accuracy: 0.7780 - val_loss: 0.8134 - val_accuracy: 0.6613\n",
            "Epoch 12/100\n",
            "383/383 [==============================] - 27s 70ms/step - loss: 0.5278 - accuracy: 0.7863 - val_loss: 0.7867 - val_accuracy: 0.7036\n",
            "Epoch 13/100\n",
            "383/383 [==============================] - 27s 71ms/step - loss: 0.4783 - accuracy: 0.8092 - val_loss: 0.6410 - val_accuracy: 0.7648\n",
            "Epoch 14/100\n",
            "383/383 [==============================] - 27s 71ms/step - loss: 0.4587 - accuracy: 0.8178 - val_loss: 0.5910 - val_accuracy: 0.7690\n",
            "Epoch 15/100\n",
            "383/383 [==============================] - 27s 71ms/step - loss: 0.4174 - accuracy: 0.8348 - val_loss: 0.6088 - val_accuracy: 0.7712\n",
            "Epoch 16/100\n",
            "383/383 [==============================] - 27s 71ms/step - loss: 0.3896 - accuracy: 0.8477 - val_loss: 0.5210 - val_accuracy: 0.7981\n",
            "Epoch 17/100\n",
            "383/383 [==============================] - 27s 71ms/step - loss: 0.3717 - accuracy: 0.8537 - val_loss: 0.5570 - val_accuracy: 0.7916\n",
            "Epoch 18/100\n",
            "383/383 [==============================] - 27s 69ms/step - loss: 0.3433 - accuracy: 0.8643 - val_loss: 0.6194 - val_accuracy: 0.7804\n",
            "Epoch 19/100\n",
            "383/383 [==============================] - 27s 70ms/step - loss: 0.3196 - accuracy: 0.8762 - val_loss: 0.5602 - val_accuracy: 0.8010\n",
            "Epoch 20/100\n",
            "383/383 [==============================] - 27s 70ms/step - loss: 0.3164 - accuracy: 0.8780 - val_loss: 0.5557 - val_accuracy: 0.8109\n",
            "Epoch 21/100\n",
            "383/383 [==============================] - 27s 70ms/step - loss: 0.2828 - accuracy: 0.8893 - val_loss: 0.5377 - val_accuracy: 0.8116\n",
            "Epoch 22/100\n",
            "383/383 [==============================] - 27s 71ms/step - loss: 0.2865 - accuracy: 0.8871 - val_loss: 0.4923 - val_accuracy: 0.8259\n",
            "Epoch 23/100\n",
            "383/383 [==============================] - 27s 70ms/step - loss: 0.2440 - accuracy: 0.9071 - val_loss: 0.5318 - val_accuracy: 0.8238\n",
            "Epoch 24/100\n",
            "383/383 [==============================] - 27s 70ms/step - loss: 0.2375 - accuracy: 0.9104 - val_loss: 0.5493 - val_accuracy: 0.8168\n",
            "Epoch 25/100\n",
            "383/383 [==============================] - 27s 71ms/step - loss: 0.2266 - accuracy: 0.9126 - val_loss: 0.5350 - val_accuracy: 0.8166\n",
            "Epoch 26/100\n",
            "383/383 [==============================] - 27s 70ms/step - loss: 0.2112 - accuracy: 0.9208 - val_loss: 0.5609 - val_accuracy: 0.8126\n",
            "Epoch 27/100\n",
            "383/383 [==============================] - 27s 70ms/step - loss: 0.2075 - accuracy: 0.9202 - val_loss: 0.5330 - val_accuracy: 0.8192\n",
            "Epoch 28/100\n",
            "383/383 [==============================] - 27s 70ms/step - loss: 0.1910 - accuracy: 0.9266 - val_loss: 0.5323 - val_accuracy: 0.8331\n",
            "Epoch 29/100\n",
            "383/383 [==============================] - 27s 70ms/step - loss: 0.1863 - accuracy: 0.9295 - val_loss: 0.6052 - val_accuracy: 0.8192\n",
            "Epoch 30/100\n",
            "383/383 [==============================] - 27s 70ms/step - loss: 0.1733 - accuracy: 0.9335 - val_loss: 0.5632 - val_accuracy: 0.8234\n",
            "Epoch 31/100\n",
            "383/383 [==============================] - 27s 70ms/step - loss: 0.1718 - accuracy: 0.9331 - val_loss: 0.5584 - val_accuracy: 0.8246\n",
            "Epoch 32/100\n",
            "383/383 [==============================] - 27s 70ms/step - loss: 0.1565 - accuracy: 0.9412 - val_loss: 0.5597 - val_accuracy: 0.8280\n",
            "Epoch 33/100\n",
            "383/383 [==============================] - 27s 71ms/step - loss: 0.1593 - accuracy: 0.9407 - val_loss: 0.5052 - val_accuracy: 0.8476\n",
            "Epoch 34/100\n",
            "383/383 [==============================] - 27s 72ms/step - loss: 0.1478 - accuracy: 0.9438 - val_loss: 0.5197 - val_accuracy: 0.8394\n",
            "Epoch 35/100\n",
            "383/383 [==============================] - 27s 71ms/step - loss: 0.1448 - accuracy: 0.9456 - val_loss: 0.5614 - val_accuracy: 0.8330\n",
            "Epoch 36/100\n",
            "383/383 [==============================] - 27s 72ms/step - loss: 0.1351 - accuracy: 0.9507 - val_loss: 0.4812 - val_accuracy: 0.8530\n",
            "Epoch 37/100\n",
            "383/383 [==============================] - 28s 72ms/step - loss: 0.1382 - accuracy: 0.9488 - val_loss: 0.5065 - val_accuracy: 0.8509\n",
            "Epoch 38/100\n",
            "383/383 [==============================] - 27s 72ms/step - loss: 0.1229 - accuracy: 0.9533 - val_loss: 0.5702 - val_accuracy: 0.8442\n",
            "Epoch 39/100\n",
            "383/383 [==============================] - 27s 71ms/step - loss: 0.1222 - accuracy: 0.9555 - val_loss: 0.5389 - val_accuracy: 0.8444\n",
            "Epoch 40/100\n",
            "383/383 [==============================] - 27s 71ms/step - loss: 0.1252 - accuracy: 0.9553 - val_loss: 0.6092 - val_accuracy: 0.8251\n",
            "Epoch 41/100\n",
            "383/383 [==============================] - 27s 71ms/step - loss: 0.1227 - accuracy: 0.9559 - val_loss: 0.5053 - val_accuracy: 0.8484\n",
            "Epoch 42/100\n",
            "383/383 [==============================] - 27s 71ms/step - loss: 0.1092 - accuracy: 0.9589 - val_loss: 0.5846 - val_accuracy: 0.8429\n",
            "Epoch 43/100\n",
            "383/383 [==============================] - 27s 71ms/step - loss: 0.1122 - accuracy: 0.9577 - val_loss: 0.5813 - val_accuracy: 0.8307\n",
            "Epoch 44/100\n",
            "383/383 [==============================] - 27s 70ms/step - loss: 0.1052 - accuracy: 0.9624 - val_loss: 0.5283 - val_accuracy: 0.8497\n",
            "Epoch 45/100\n",
            "383/383 [==============================] - 27s 71ms/step - loss: 0.1060 - accuracy: 0.9627 - val_loss: 0.5384 - val_accuracy: 0.8493\n",
            "Epoch 46/100\n",
            "383/383 [==============================] - 27s 70ms/step - loss: 0.0962 - accuracy: 0.9643 - val_loss: 0.5268 - val_accuracy: 0.8539\n",
            "Epoch 47/100\n",
            "383/383 [==============================] - 27s 69ms/step - loss: 0.0988 - accuracy: 0.9647 - val_loss: 0.5327 - val_accuracy: 0.8467\n",
            "Epoch 48/100\n",
            "383/383 [==============================] - 27s 70ms/step - loss: 0.0898 - accuracy: 0.9669 - val_loss: 0.5197 - val_accuracy: 0.8604\n",
            "Epoch 49/100\n",
            "383/383 [==============================] - 27s 70ms/step - loss: 0.0818 - accuracy: 0.9690 - val_loss: 0.6136 - val_accuracy: 0.8482\n",
            "Epoch 50/100\n",
            "383/383 [==============================] - 27s 70ms/step - loss: 0.0897 - accuracy: 0.9691 - val_loss: 0.5768 - val_accuracy: 0.8476\n",
            "Epoch 51/100\n",
            "383/383 [==============================] - 27s 70ms/step - loss: 0.0960 - accuracy: 0.9641 - val_loss: 0.5153 - val_accuracy: 0.8495\n",
            "Epoch 52/100\n",
            "383/383 [==============================] - 27s 72ms/step - loss: 0.0756 - accuracy: 0.9722 - val_loss: 0.5742 - val_accuracy: 0.8501\n",
            "Epoch 53/100\n",
            "383/383 [==============================] - 27s 71ms/step - loss: 0.0790 - accuracy: 0.9715 - val_loss: 0.6340 - val_accuracy: 0.8337\n",
            "Epoch 54/100\n",
            "383/383 [==============================] - 27s 71ms/step - loss: 0.0803 - accuracy: 0.9729 - val_loss: 0.5429 - val_accuracy: 0.8568\n",
            "Epoch 55/100\n",
            "383/383 [==============================] - 27s 71ms/step - loss: 0.0758 - accuracy: 0.9731 - val_loss: 0.5972 - val_accuracy: 0.8512\n",
            "Epoch 56/100\n",
            "383/383 [==============================] - 27s 72ms/step - loss: 0.0824 - accuracy: 0.9698 - val_loss: 0.5703 - val_accuracy: 0.8507\n",
            "Epoch 57/100\n",
            "383/383 [==============================] - 27s 71ms/step - loss: 0.0817 - accuracy: 0.9716 - val_loss: 0.6278 - val_accuracy: 0.8385\n",
            "Epoch 58/100\n",
            "383/383 [==============================] - 27s 71ms/step - loss: 0.0757 - accuracy: 0.9706 - val_loss: 0.5594 - val_accuracy: 0.8577\n",
            "Epoch 59/100\n",
            "383/383 [==============================] - 27s 71ms/step - loss: 0.0653 - accuracy: 0.9771 - val_loss: 0.6637 - val_accuracy: 0.8421\n",
            "Epoch 60/100\n",
            "383/383 [==============================] - 27s 71ms/step - loss: 0.0681 - accuracy: 0.9758 - val_loss: 0.6111 - val_accuracy: 0.8434\n",
            "Epoch 61/100\n",
            "383/383 [==============================] - 27s 72ms/step - loss: 0.0675 - accuracy: 0.9764 - val_loss: 0.5911 - val_accuracy: 0.8564\n",
            "Epoch 62/100\n",
            "383/383 [==============================] - 28s 72ms/step - loss: 0.0686 - accuracy: 0.9752 - val_loss: 0.5419 - val_accuracy: 0.8604\n",
            "Epoch 63/100\n",
            "383/383 [==============================] - 27s 71ms/step - loss: 0.0612 - accuracy: 0.9797 - val_loss: 0.7482 - val_accuracy: 0.8240\n",
            "Epoch 64/100\n",
            "383/383 [==============================] - 27s 71ms/step - loss: 0.0639 - accuracy: 0.9767 - val_loss: 0.5403 - val_accuracy: 0.8606\n",
            "Epoch 65/100\n",
            "383/383 [==============================] - 27s 71ms/step - loss: 0.0607 - accuracy: 0.9782 - val_loss: 0.5588 - val_accuracy: 0.8598\n",
            "Epoch 66/100\n",
            "383/383 [==============================] - 27s 71ms/step - loss: 0.0633 - accuracy: 0.9765 - val_loss: 0.6266 - val_accuracy: 0.8541\n",
            "Epoch 67/100\n",
            "383/383 [==============================] - 27s 71ms/step - loss: 0.0582 - accuracy: 0.9781 - val_loss: 0.5906 - val_accuracy: 0.8564\n",
            "Epoch 68/100\n",
            "383/383 [==============================] - 28s 72ms/step - loss: 0.0635 - accuracy: 0.9784 - val_loss: 0.5204 - val_accuracy: 0.8577\n",
            "Epoch 69/100\n",
            "383/383 [==============================] - 27s 71ms/step - loss: 0.0565 - accuracy: 0.9811 - val_loss: 0.6193 - val_accuracy: 0.8531\n",
            "Epoch 70/100\n",
            "383/383 [==============================] - 27s 71ms/step - loss: 0.0552 - accuracy: 0.9802 - val_loss: 0.5802 - val_accuracy: 0.8562\n",
            "Epoch 71/100\n",
            "383/383 [==============================] - 28s 72ms/step - loss: 0.0564 - accuracy: 0.9793 - val_loss: 0.5846 - val_accuracy: 0.8613\n",
            "Epoch 72/100\n",
            "383/383 [==============================] - 27s 72ms/step - loss: 0.0556 - accuracy: 0.9811 - val_loss: 0.5976 - val_accuracy: 0.8512\n",
            "Epoch 73/100\n",
            "383/383 [==============================] - 27s 71ms/step - loss: 0.0506 - accuracy: 0.9825 - val_loss: 0.6274 - val_accuracy: 0.8486\n",
            "Epoch 74/100\n",
            "383/383 [==============================] - 27s 71ms/step - loss: 0.0568 - accuracy: 0.9793 - val_loss: 0.5644 - val_accuracy: 0.8651\n",
            "Epoch 75/100\n",
            "383/383 [==============================] - 27s 70ms/step - loss: 0.0533 - accuracy: 0.9822 - val_loss: 0.6455 - val_accuracy: 0.8524\n",
            "Epoch 76/100\n",
            "383/383 [==============================] - 27s 70ms/step - loss: 0.0473 - accuracy: 0.9832 - val_loss: 0.6750 - val_accuracy: 0.8514\n",
            "Epoch 77/100\n",
            "383/383 [==============================] - 27s 71ms/step - loss: 0.0551 - accuracy: 0.9804 - val_loss: 0.6252 - val_accuracy: 0.8564\n",
            "Epoch 78/100\n",
            "383/383 [==============================] - 27s 71ms/step - loss: 0.0456 - accuracy: 0.9841 - val_loss: 0.5966 - val_accuracy: 0.8573\n",
            "Epoch 79/100\n",
            "383/383 [==============================] - 27s 71ms/step - loss: 0.0483 - accuracy: 0.9843 - val_loss: 0.6691 - val_accuracy: 0.8499\n",
            "Epoch 80/100\n",
            "383/383 [==============================] - 27s 71ms/step - loss: 0.0500 - accuracy: 0.9814 - val_loss: 0.7362 - val_accuracy: 0.8284\n",
            "Epoch 81/100\n",
            "383/383 [==============================] - 27s 70ms/step - loss: 0.0482 - accuracy: 0.9819 - val_loss: 0.7269 - val_accuracy: 0.8347\n",
            "Epoch 82/100\n",
            "383/383 [==============================] - 27s 70ms/step - loss: 0.0445 - accuracy: 0.9848 - val_loss: 0.5714 - val_accuracy: 0.8600\n",
            "Epoch 83/100\n",
            "383/383 [==============================] - 27s 71ms/step - loss: 0.0397 - accuracy: 0.9864 - val_loss: 0.5597 - val_accuracy: 0.8646\n",
            "Epoch 84/100\n",
            "383/383 [==============================] - 27s 70ms/step - loss: 0.0453 - accuracy: 0.9845 - val_loss: 0.6209 - val_accuracy: 0.8495\n",
            "Epoch 85/100\n",
            "383/383 [==============================] - 27s 71ms/step - loss: 0.0466 - accuracy: 0.9834 - val_loss: 0.6233 - val_accuracy: 0.8547\n",
            "Epoch 86/100\n",
            "383/383 [==============================] - 27s 71ms/step - loss: 0.0428 - accuracy: 0.9856 - val_loss: 0.6382 - val_accuracy: 0.8518\n",
            "Epoch 87/100\n",
            "383/383 [==============================] - 27s 71ms/step - loss: 0.0463 - accuracy: 0.9847 - val_loss: 0.6919 - val_accuracy: 0.8507\n",
            "Epoch 88/100\n",
            "383/383 [==============================] - 27s 71ms/step - loss: 0.0484 - accuracy: 0.9833 - val_loss: 0.5699 - val_accuracy: 0.8564\n",
            "Epoch 89/100\n",
            "383/383 [==============================] - 27s 70ms/step - loss: 0.0398 - accuracy: 0.9860 - val_loss: 0.8992 - val_accuracy: 0.8181\n",
            "Epoch 90/100\n",
            "383/383 [==============================] - 27s 70ms/step - loss: 0.0467 - accuracy: 0.9846 - val_loss: 0.5681 - val_accuracy: 0.8552\n",
            "Epoch 91/100\n",
            "383/383 [==============================] - 27s 71ms/step - loss: 0.0376 - accuracy: 0.9864 - val_loss: 0.6461 - val_accuracy: 0.8528\n",
            "Epoch 92/100\n",
            "383/383 [==============================] - 28s 72ms/step - loss: 0.0417 - accuracy: 0.9852 - val_loss: 0.5815 - val_accuracy: 0.8558\n",
            "Epoch 93/100\n",
            "383/383 [==============================] - 28s 72ms/step - loss: 0.0367 - accuracy: 0.9867 - val_loss: 0.6020 - val_accuracy: 0.8646\n",
            "Epoch 94/100\n",
            "383/383 [==============================] - 28s 72ms/step - loss: 0.0360 - accuracy: 0.9864 - val_loss: 0.5546 - val_accuracy: 0.8632\n",
            "Epoch 95/100\n",
            "383/383 [==============================] - 27s 71ms/step - loss: 0.0386 - accuracy: 0.9868 - val_loss: 0.6026 - val_accuracy: 0.8518\n",
            "Epoch 96/100\n",
            "383/383 [==============================] - 27s 71ms/step - loss: 0.0375 - accuracy: 0.9864 - val_loss: 0.5845 - val_accuracy: 0.8657\n",
            "Epoch 97/100\n",
            "383/383 [==============================] - 27s 72ms/step - loss: 0.0397 - accuracy: 0.9863 - val_loss: 0.5835 - val_accuracy: 0.8690\n",
            "Epoch 98/100\n",
            "383/383 [==============================] - 27s 71ms/step - loss: 0.0290 - accuracy: 0.9897 - val_loss: 0.6537 - val_accuracy: 0.8608\n",
            "Epoch 99/100\n",
            "383/383 [==============================] - 27s 71ms/step - loss: 0.0383 - accuracy: 0.9865 - val_loss: 0.6899 - val_accuracy: 0.8394\n",
            "Epoch 100/100\n",
            "383/383 [==============================] - 27s 72ms/step - loss: 0.0381 - accuracy: 0.9859 - val_loss: 0.6340 - val_accuracy: 0.8522\n"
          ]
        }
      ],
      "source": [
        "opt=tf.keras.optimizers.legacy.Adam(learning_rate=0.001, epsilon=1e-7, decay=1e-5)\n",
        "model.compile(optimizer=opt, loss='categorical_crossentropy', metrics=['accuracy'])\n",
        "\n",
        "checkpointer = ModelCheckpoint(filepath=\"mobile_net.h5\",\n",
        "                               verbose=0,\n",
        "                               save_best_only=True)\n",
        "\n",
        "history = model.fit(train_datagen.flow(X_train, y_binary_train, batch_size=32, seed=42), \n",
        "                    validation_data=test_datagen.flow(X_test, y_binary_test, batch_size=32, seed=42),\n",
        "                    callbacks=[checkpointer],\n",
        "                    epochs = 100)"
      ]
    },
    {
      "cell_type": "code",
      "execution_count": null,
      "metadata": {
        "id": "TKYX7LlXhAnE"
      },
      "outputs": [],
      "source": [
        "def plot_learning_curves(history):\n",
        "    plt.plot(history.history[\"accuracy\"],label=\"Train Accuracy\")\n",
        "    plt.plot(history.history[\"val_accuracy\"],label=\"Val Accuracy\")\n",
        "    plt.legend()\n",
        "    plt.show()"
      ]
    },
    {
      "cell_type": "code",
      "execution_count": null,
      "metadata": {
        "colab": {
          "base_uri": "https://localhost:8080/",
          "height": 265
        },
        "id": "GJG-ox66los1",
        "outputId": "34a1b024-a68d-4a7a-fad9-90ff7e0ca5a8"
      },
      "outputs": [
        {
          "data": {
            "image/png": "[encoded data removed]",
            "text/plain": [
              "<Figure size 432x288 with 1 Axes>"
            ]
          },
          "metadata": {
            "needs_background": "light"
          },
          "output_type": "display_data"
        }
      ],
      "source": [
        "plot_learning_curves(history)"
      ]
    },
    {
      "cell_type": "code",
      "execution_count": null,
      "metadata": {
        "colab": {
          "base_uri": "https://localhost:8080/"
        },
        "id": "ASjeNpyflq-K",
        "outputId": "7e62c0d3-b20f-4425-e6d4-85c0f5bc1bc3"
      },
      "outputs": [
        {
          "name": "stdout",
          "output_type": "stream",
          "text": [
            "Results:\n",
            "\n",
            "The best validation accuracy is 86.90%.\n"
          ]
        }
      ],
      "source": [
        "print('Results:\\n')\n",
        "print('The best validation accuracy is %.2f%%.' % (np.max(history.history[\"val_accuracy\"])*100))"
      ]
    },
    {
      "cell_type": "code",
      "execution_count": null,
      "metadata": {
        "colab": {
          "base_uri": "https://localhost:8080/"
        },
        "id": "qtoAzh4nlt_1",
        "outputId": "f13e0b80-cd7d-4df9-94be-f0e774b13cab"
      },
      "outputs": [
        {
          "name": "stdout",
          "output_type": "stream",
          "text": [
            "165/165 [==============================] - 2s 14ms/step - loss: 0.6340 - accuracy: 0.8522\n",
            "Test Loss = 0.6339656114578247\n",
            "Test Accuracy = 0.8521904945373535\n"
          ]
        }
      ],
      "source": [
        "score, acc = model.evaluate(test_datagen.flow(X_test, y_binary_test, batch_size=32, seed=42))\n",
        "print('Test Loss =', score)\n",
        "print('Test Accuracy =', acc)"
      ]
    },
    {
      "cell_type": "code",
      "execution_count": null,
      "metadata": {
        "colab": {
          "base_uri": "https://localhost:8080/"
        },
        "id": "c5lBdaHMC5mh",
        "outputId": "37890eee-5ca9-4130-c6c7-8314e52b1d2d"
      },
      "outputs": [
        {
          "data": {
            "text/plain": [
              "3"
            ]
          },
          "execution_count": 30,
          "metadata": {},
          "output_type": "execute_result"
        }
      ],
      "source": [
        "import numpy as np\n",
        "rounded_labels=np.argmax(y_binary_test, axis=1)\n",
        "rounded_labels[1]"
      ]
    },
    {
      "cell_type": "code",
      "execution_count": null,
      "metadata": {
        "colab": {
          "base_uri": "https://localhost:8080/",
          "height": 314
        },
        "id": "4EEP7OClmIzL",
        "outputId": "74a2bdd2-2f90-40ef-ec9e-15588efabf6e"
      },
      "outputs": [
        {
          "name": "stdout",
          "output_type": "stream",
          "text": [
            "165/165 [==============================] - 2s 12ms/step\n"
          ]
        },
        {
          "data": {
            "text/plain": [
              "Text(33.0, 0.5, 'Actual')"
            ]
          },
          "execution_count": 37,
          "metadata": {},
          "output_type": "execute_result"
        },
        {
          "data": {
            "image/png": "[encoded data removed]",
            "text/plain": [
              "<Figure size 432x288 with 2 Axes>"
            ]
          },
          "metadata": {
            "needs_background": "light"
          },
          "output_type": "display_data"
        }
      ],
      "source": [
        "from sklearn.metrics import confusion_matrix\n",
        "import seaborn as sns\n",
        "X_t=X_test/255\n",
        "X_pred=model.predict(X_t)\n",
        "max=[]\n",
        "for i in X_pred:\n",
        "  l=np.argmax(i)\n",
        "  max.append(l)\n",
        "cm_train=confusion_matrix(Y_test,max)\n",
        "sns.heatmap(cm_train, annot=True,fmt='g', cmap='Blues',xticklabels=['0','1','2','3','4'],yticklabels=['0','1','2','3','4'])\n",
        "plt.xlabel(\"Predicted\")\n",
        "plt.ylabel(\"Actual\")"
      ]
    },
    {
      "cell_type": "code",
      "execution_count": null,
      "metadata": {
        "colab": {
          "base_uri": "https://localhost:8080/",
          "height": 318
        },
        "id": "UxGB8ppcUuRs",
        "outputId": "bbcf24e5-1a78-4443-c25b-302dab9ffc5a"
      },
      "outputs": [
        {
          "name": "stdout",
          "output_type": "stream",
          "text": [
            "383/383 [==============================] - 4s 12ms/step\n"
          ]
        },
        {
          "data": {
            "text/plain": [
              "Text(33.0, 0.5, 'Actual')"
            ]
          },
          "execution_count": 42,
          "metadata": {},
          "output_type": "execute_result"
        },
        {
          "data": {
            "image/png": "[encoded data removed]",
            "text/plain": [
              "<Figure size 432x288 with 2 Axes>"
            ]
          },
          "metadata": {
            "needs_background": "light"
          },
          "output_type": "display_data"
        }
      ],
      "source": [
        "from sklearn.metrics import confusion_matrix\n",
        "import seaborn as sns\n",
        "X_tr=X_train/255\n",
        "X_pred=model.predict(X_tr)\n",
        "max=[]\n",
        "for i in X_pred:\n",
        "  l=np.argmax(i)\n",
        "  max.append(l)\n",
        "cm_train=confusion_matrix(Y_train,max)\n",
        "sns.heatmap(cm_train, annot=True,fmt='g', cmap='Blues',xticklabels=['0','1','2','3','4'],yticklabels=['0','1','2','3','4'])\n",
        "plt.xlabel(\"Predicted\")\n",
        "plt.ylabel(\"Actual\")"
      ]
    },
    {
      "cell_type": "code",
      "execution_count": null,
      "metadata": {
        "id": "7AXHxI3aYlKe"
      },
      "outputs": [],
      "source": []
    }
  ],
  "metadata": {
    "accelerator": "GPU",
    "colab": {
      "provenance": []
    },
    "gpuClass": "standard",
    "kernelspec": {
      "display_name": "env",
      "language": "python",
      "name": "python3"
    },
    "language_info": {
      "codemirror_mode": {
        "name": "ipython",
        "version": 3
      },
      "file_extension": ".py",
      "mimetype": "text/x-python",
      "name": "python",
      "nbconvert_exporter": "python",
      "pygments_lexer": "ipython3",
      "version": "3.10.0"
    },
    "vscode": {
      "interpreter": {
        "hash": "8c531f64f57671b02d8b41421714f6f94d9219e45619b26cbbb27a7da8f46954"
      }
    }
  },
  "nbformat": 4,
  "nbformat_minor": 0
}
